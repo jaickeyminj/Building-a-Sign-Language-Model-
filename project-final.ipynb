{
 "cells": [
  {
   "cell_type": "markdown",
   "id": "44fd4753",
   "metadata": {
    "papermill": {
     "duration": 0.016324,
     "end_time": "2023-11-26T07:59:11.662012",
     "exception": false,
     "start_time": "2023-11-26T07:59:11.645688",
     "status": "completed"
    },
    "tags": []
   },
   "source": [
    "# American Sign Language Fingerspelling Recognition with TensorFlow\n"
   ]
  },
  {
   "cell_type": "markdown",
   "id": "00102826",
   "metadata": {
    "papermill": {
     "duration": 0.015299,
     "end_time": "2023-11-26T07:59:11.693311",
     "exception": false,
     "start_time": "2023-11-26T07:59:11.678012",
     "status": "completed"
    },
    "tags": []
   },
   "source": [
    "The objective of this project is to develop a robust and accurate model for American Sign Language (ASL) fingerspelling recognition using a Transformer architecture implemented in TensorFlow. The goal is to create a system capable of predicting and translating ASL fingerspelling from a sequence of video frames into corresponding text phrases. By leveraging the power of Transformer models, the project aims to capture intricate temporal dependencies and spatial relationships within the video data, enabling the accurate representation and interpretation of ASL fingerspelling gestures. Ultimately, the model's success will be measured by its ability to provide reliable and contextually meaningful translations of ASL fingerspelling, thereby facilitating improved communication accessibility for individuals with hearing impairments.\n"
   ]
  },
  {
   "cell_type": "code",
   "execution_count": 1,
   "id": "b368a4f8",
   "metadata": {
    "_cell_guid": "b1076dfc-b9ad-4769-8c92-a6c4dae69d19",
    "_uuid": "8f2839f25d086af736a60e9eeb907d3b93b6e0e5",
    "execution": {
     "iopub.execute_input": "2023-11-26T07:59:11.726452Z",
     "iopub.status.busy": "2023-11-26T07:59:11.725700Z",
     "iopub.status.idle": "2023-11-26T07:59:26.344162Z",
     "shell.execute_reply": "2023-11-26T07:59:26.343223Z"
    },
    "papermill": {
     "duration": 14.637614,
     "end_time": "2023-11-26T07:59:26.346492",
     "exception": false,
     "start_time": "2023-11-26T07:59:11.708878",
     "status": "completed"
    },
    "tags": []
   },
   "outputs": [
    {
     "name": "stdout",
     "output_type": "stream",
     "text": [
      "Collecting mediapipe\r\n",
      "  Obtaining dependency information for mediapipe from https://files.pythonhosted.org/packages/61/12/4ca8df3b40a3dbba725f1fb793b15510a61b1277c29b81ac322de48d827d/mediapipe-0.10.8-cp310-cp310-manylinux_2_17_x86_64.manylinux2014_x86_64.whl.metadata\r\n",
      "  Downloading mediapipe-0.10.8-cp310-cp310-manylinux_2_17_x86_64.manylinux2014_x86_64.whl.metadata (9.6 kB)\r\n",
      "Requirement already satisfied: absl-py in /opt/conda/lib/python3.10/site-packages (from mediapipe) (1.4.0)\r\n",
      "Requirement already satisfied: attrs>=19.1.0 in /opt/conda/lib/python3.10/site-packages (from mediapipe) (23.1.0)\r\n",
      "Requirement already satisfied: flatbuffers>=2.0 in /opt/conda/lib/python3.10/site-packages (from mediapipe) (23.5.26)\r\n",
      "Requirement already satisfied: matplotlib in /opt/conda/lib/python3.10/site-packages (from mediapipe) (3.7.3)\r\n",
      "Requirement already satisfied: numpy in /opt/conda/lib/python3.10/site-packages (from mediapipe) (1.24.3)\r\n",
      "Requirement already satisfied: opencv-contrib-python in /opt/conda/lib/python3.10/site-packages (from mediapipe) (4.8.1.78)\r\n",
      "Requirement already satisfied: protobuf<4,>=3.11 in /opt/conda/lib/python3.10/site-packages (from mediapipe) (3.20.3)\r\n",
      "Collecting sounddevice>=0.4.4 (from mediapipe)\r\n",
      "  Downloading sounddevice-0.4.6-py3-none-any.whl (31 kB)\r\n",
      "Requirement already satisfied: CFFI>=1.0 in /opt/conda/lib/python3.10/site-packages (from sounddevice>=0.4.4->mediapipe) (1.15.1)\r\n",
      "Requirement already satisfied: contourpy>=1.0.1 in /opt/conda/lib/python3.10/site-packages (from matplotlib->mediapipe) (1.1.0)\r\n",
      "Requirement already satisfied: cycler>=0.10 in /opt/conda/lib/python3.10/site-packages (from matplotlib->mediapipe) (0.11.0)\r\n",
      "Requirement already satisfied: fonttools>=4.22.0 in /opt/conda/lib/python3.10/site-packages (from matplotlib->mediapipe) (4.42.1)\r\n",
      "Requirement already satisfied: kiwisolver>=1.0.1 in /opt/conda/lib/python3.10/site-packages (from matplotlib->mediapipe) (1.4.4)\r\n",
      "Requirement already satisfied: packaging>=20.0 in /opt/conda/lib/python3.10/site-packages (from matplotlib->mediapipe) (21.3)\r\n",
      "Requirement already satisfied: pillow>=6.2.0 in /opt/conda/lib/python3.10/site-packages (from matplotlib->mediapipe) (10.1.0)\r\n",
      "Requirement already satisfied: pyparsing>=2.3.1 in /opt/conda/lib/python3.10/site-packages (from matplotlib->mediapipe) (3.0.9)\r\n",
      "Requirement already satisfied: python-dateutil>=2.7 in /opt/conda/lib/python3.10/site-packages (from matplotlib->mediapipe) (2.8.2)\r\n",
      "Requirement already satisfied: pycparser in /opt/conda/lib/python3.10/site-packages (from CFFI>=1.0->sounddevice>=0.4.4->mediapipe) (2.21)\r\n",
      "Requirement already satisfied: six>=1.5 in /opt/conda/lib/python3.10/site-packages (from python-dateutil>=2.7->matplotlib->mediapipe) (1.16.0)\r\n",
      "Downloading mediapipe-0.10.8-cp310-cp310-manylinux_2_17_x86_64.manylinux2014_x86_64.whl (34.5 MB)\r\n",
      "\u001b[2K   \u001b[90m━━━━━━━━━━━━━━━━━━━━━━━━━━━━━━━━━━━━━━━━\u001b[0m \u001b[32m34.5/34.5 MB\u001b[0m \u001b[31m42.3 MB/s\u001b[0m eta \u001b[36m0:00:00\u001b[0m\r\n",
      "\u001b[?25hInstalling collected packages: sounddevice, mediapipe\r\n",
      "Successfully installed mediapipe-0.10.8 sounddevice-0.4.6\r\n"
     ]
    }
   ],
   "source": [
    "!pip install mediapipe"
   ]
  },
  {
   "cell_type": "markdown",
   "id": "6fc3c870",
   "metadata": {
    "papermill": {
     "duration": 0.018197,
     "end_time": "2023-11-26T07:59:26.383368",
     "exception": false,
     "start_time": "2023-11-26T07:59:26.365171",
     "status": "completed"
    },
    "tags": []
   },
   "source": [
    "The MediaPipe Gesture Recognizer task lets us recognize hand gestures in real time, and provides the recognized hand gesture results along with the landmarks of the detected hands. We can use this task to recognize specific hand gestures from a user, and invoke application features that correspond to those gestures."
   ]
  },
  {
   "cell_type": "markdown",
   "id": "6d3d2a72",
   "metadata": {
    "papermill": {
     "duration": 0.016882,
     "end_time": "2023-11-26T07:59:26.418128",
     "exception": false,
     "start_time": "2023-11-26T07:59:26.401246",
     "status": "completed"
    },
    "tags": []
   },
   "source": [
    "# Import the libraries"
   ]
  },
  {
   "cell_type": "code",
   "execution_count": 2,
   "id": "8a9a6489",
   "metadata": {
    "execution": {
     "iopub.execute_input": "2023-11-26T07:59:26.460966Z",
     "iopub.status.busy": "2023-11-26T07:59:26.459936Z",
     "iopub.status.idle": "2023-11-26T07:59:39.937699Z",
     "shell.execute_reply": "2023-11-26T07:59:39.936943Z"
    },
    "papermill": {
     "duration": 13.503962,
     "end_time": "2023-11-26T07:59:39.940101",
     "exception": false,
     "start_time": "2023-11-26T07:59:26.436139",
     "status": "completed"
    },
    "tags": []
   },
   "outputs": [
    {
     "name": "stderr",
     "output_type": "stream",
     "text": [
      "/opt/conda/lib/python3.10/site-packages/scipy/__init__.py:146: UserWarning: A NumPy version >=1.16.5 and <1.23.0 is required for this version of SciPy (detected version 1.24.3\n",
      "  warnings.warn(f\"A NumPy version >={np_minversion} and <{np_maxversion}\"\n"
     ]
    }
   ],
   "source": [
    "import os\n",
    "import shutil\n",
    "import numpy as np\n",
    "import pandas as pd\n",
    "import pyarrow.parquet as pq\n",
    "import tensorflow as tf\n",
    "import json\n",
    "import mediapipe\n",
    "import matplotlib\n",
    "import matplotlib.pyplot as plt\n",
    "import random\n",
    "\n",
    "from skimage.transform import resize\n",
    "from mediapipe.framework.formats import landmark_pb2\n",
    "from tensorflow import keras\n",
    "from tensorflow.keras import layers\n",
    "from tqdm.notebook import tqdm\n",
    "from matplotlib import animation, rc"
   ]
  },
  {
   "cell_type": "markdown",
   "id": "a19bd88c",
   "metadata": {
    "papermill": {
     "duration": 0.016973,
     "end_time": "2023-11-26T07:59:39.974704",
     "exception": false,
     "start_time": "2023-11-26T07:59:39.957731",
     "status": "completed"
    },
    "tags": []
   },
   "source": [
    "# Load the Dataset"
   ]
  },
  {
   "cell_type": "code",
   "execution_count": 3,
   "id": "2858477c",
   "metadata": {
    "execution": {
     "iopub.execute_input": "2023-11-26T07:59:40.010629Z",
     "iopub.status.busy": "2023-11-26T07:59:40.010049Z",
     "iopub.status.idle": "2023-11-26T07:59:40.162125Z",
     "shell.execute_reply": "2023-11-26T07:59:40.161144Z"
    },
    "papermill": {
     "duration": 0.17273,
     "end_time": "2023-11-26T07:59:40.164482",
     "exception": false,
     "start_time": "2023-11-26T07:59:39.991752",
     "status": "completed"
    },
    "tags": []
   },
   "outputs": [
    {
     "name": "stdout",
     "output_type": "stream",
     "text": [
      "                              path  file_id  sequence_id  participant_id  \\\n",
      "0  train_landmarks/5414471.parquet  5414471   1816796431             217   \n",
      "1  train_landmarks/5414471.parquet  5414471   1816825349             107   \n",
      "2  train_landmarks/5414471.parquet  5414471   1816909464               1   \n",
      "\n",
      "                phrase  \n",
      "0         3 creekhouse  \n",
      "1      scales/kuhaylah  \n",
      "2  1383 william lanier  \n",
      "\n",
      "Size of the dataset  (67208, 5)\n"
     ]
    }
   ],
   "source": [
    "df = pd.read_csv('/kaggle/input/asl-fingerspelling/train.csv')\n",
    "print(df.head(3))\n",
    "print(\"\\nSize of the dataset  {}\".format(df.shape))"
   ]
  },
  {
   "cell_type": "markdown",
   "id": "61589d0a",
   "metadata": {
    "papermill": {
     "duration": 0.017205,
     "end_time": "2023-11-26T07:59:40.200150",
     "exception": false,
     "start_time": "2023-11-26T07:59:40.182945",
     "status": "completed"
    },
    "tags": []
   },
   "source": [
    "This dataset consists of 67,208 entries, where each entry corresponds to a specific instance of ASL fingerspelling. The dataset includes information such as file path, file ID, sequence ID, participant ID, and the associated text phrase."
   ]
  },
  {
   "cell_type": "markdown",
   "id": "818c89c5",
   "metadata": {
    "papermill": {
     "duration": 0.017131,
     "end_time": "2023-11-26T07:59:40.234333",
     "exception": false,
     "start_time": "2023-11-26T07:59:40.217202",
     "status": "completed"
    },
    "tags": []
   },
   "source": [
    "# Exploration of the DataSet"
   ]
  },
  {
   "cell_type": "markdown",
   "id": "22d12eb0",
   "metadata": {
    "papermill": {
     "duration": 0.067845,
     "end_time": "2023-11-26T07:59:40.319732",
     "exception": false,
     "start_time": "2023-11-26T07:59:40.251887",
     "status": "completed"
    },
    "tags": []
   },
   "source": [
    "This Data set is consists of a .csv file name train.csv and different point (face, right hand , left hand) of a video for a particlular phrase is in train_landmarkes.parquet file "
   ]
  },
  {
   "cell_type": "markdown",
   "id": "68e81233",
   "metadata": {
    "papermill": {
     "duration": 0.016958,
     "end_time": "2023-11-26T07:59:40.354167",
     "exception": false,
     "start_time": "2023-11-26T07:59:40.337209",
     "status": "completed"
    },
    "tags": []
   },
   "source": [
    "The following diagram shows an example of how files are connected."
   ]
  },
  {
   "cell_type": "markdown",
   "id": "f8c894b6",
   "metadata": {
    "papermill": {
     "duration": 0.017121,
     "end_time": "2023-11-26T07:59:40.388805",
     "exception": false,
     "start_time": "2023-11-26T07:59:40.371684",
     "status": "completed"
    },
    "tags": []
   },
   "source": [
    "**image12**"
   ]
  },
  {
   "cell_type": "markdown",
   "id": "7c2f8e8e",
   "metadata": {
    "papermill": {
     "duration": 0.017318,
     "end_time": "2023-11-26T07:59:40.423459",
     "exception": false,
     "start_time": "2023-11-26T07:59:40.406141",
     "status": "completed"
    },
    "tags": []
   },
   "source": [
    "As an example lets explore one of the phrase of our data"
   ]
  },
  {
   "cell_type": "code",
   "execution_count": 4,
   "id": "1c00c681",
   "metadata": {
    "execution": {
     "iopub.execute_input": "2023-11-26T07:59:40.459818Z",
     "iopub.status.busy": "2023-11-26T07:59:40.459448Z",
     "iopub.status.idle": "2023-11-26T07:59:40.472687Z",
     "shell.execute_reply": "2023-11-26T07:59:40.471861Z"
    },
    "papermill": {
     "duration": 0.033871,
     "end_time": "2023-11-26T07:59:40.474785",
     "exception": false,
     "start_time": "2023-11-26T07:59:40.440914",
     "status": "completed"
    },
    "tags": []
   },
   "outputs": [
    {
     "name": "stdout",
     "output_type": "stream",
     "text": [
      "sequence_id: 1816909464, file_id: 5414471, phrase: 1383 william lanier\n"
     ]
    }
   ],
   "source": [
    "sequence_id, file_id, phrase = df.iloc[2][['sequence_id', 'file_id', 'phrase']]\n",
    "print(f\"sequence_id: {sequence_id}, file_id: {file_id}, phrase: {phrase}\")"
   ]
  },
  {
   "cell_type": "code",
   "execution_count": 5,
   "id": "4f92ab01",
   "metadata": {
    "execution": {
     "iopub.execute_input": "2023-11-26T07:59:40.512060Z",
     "iopub.status.busy": "2023-11-26T07:59:40.511509Z",
     "iopub.status.idle": "2023-11-26T07:59:43.880170Z",
     "shell.execute_reply": "2023-11-26T07:59:43.879153Z"
    },
    "papermill": {
     "duration": 3.389514,
     "end_time": "2023-11-26T07:59:43.882533",
     "exception": false,
     "start_time": "2023-11-26T07:59:40.493019",
     "status": "completed"
    },
    "tags": []
   },
   "outputs": [
    {
     "name": "stdout",
     "output_type": "stream",
     "text": [
      "Shape of the sequence dataset for file_id 5414471 and sequence_id 1816909464 is (236, 1630)\n",
      "First few rows of the dataset:\n",
      "             frame  x_face_0  x_face_1  x_face_2  x_face_3  x_face_4  \\\n",
      "sequence_id                                                            \n",
      "1816909464       0  0.633601  0.618904  0.623231  0.606461  0.618572   \n",
      "1816909464       1  0.635823  0.636086  0.636008  0.621483  0.636530   \n",
      "\n",
      "             x_face_5  x_face_6  x_face_7  x_face_8  ...  z_right_hand_11  \\\n",
      "sequence_id                                          ...                    \n",
      "1816909464   0.620224  0.626085  0.514628  0.628102  ...        -0.111414   \n",
      "1816909464   0.637268  0.639157  0.515761  0.639826  ...        -0.122258   \n",
      "\n",
      "             z_right_hand_12  z_right_hand_13  z_right_hand_14  \\\n",
      "sequence_id                                                      \n",
      "1816909464         -0.104189        -0.045380        -0.121249   \n",
      "1816909464         -0.109364        -0.056801        -0.140697   \n",
      "\n",
      "             z_right_hand_15  z_right_hand_16  z_right_hand_17  \\\n",
      "sequence_id                                                      \n",
      "1816909464         -0.109559        -0.081881        -0.061576   \n",
      "1816909464         -0.121780        -0.086510        -0.075543   \n",
      "\n",
      "             z_right_hand_18  z_right_hand_19  z_right_hand_20  \n",
      "sequence_id                                                     \n",
      "1816909464         -0.120730        -0.112934        -0.093270  \n",
      "1816909464         -0.137953        -0.123546        -0.098119  \n",
      "\n",
      "[2 rows x 1630 columns]\n"
     ]
    }
   ],
   "source": [
    "# File path to the Parquet file\n",
    "file_path = f\"/kaggle/input/asl-fingerspelling/train_landmarks/{str(file_id)}.parquet\"\n",
    "\n",
    "# Read the Parquet file and filter based on file_id and sequence_id\n",
    "sample_sequence_df = pq.read_table(file_path, filters=[('sequence_id', '=', sequence_id)]).to_pandas()\n",
    "\n",
    "# Display the shape of the sequence dataset\n",
    "print(\"Shape of the sequence dataset for file_id {} and sequence_id {} is {}\".format(file_id, sequence_id, sample_sequence_df.shape))\n",
    "\n",
    "# Display the first few rows of the dataset\n",
    "print(\"First few rows of the dataset:\")\n",
    "print(sample_sequence_df.head(2))"
   ]
  },
  {
   "cell_type": "markdown",
   "id": "4152f30c",
   "metadata": {
    "papermill": {
     "duration": 0.017406,
     "end_time": "2023-11-26T07:59:43.918463",
     "exception": false,
     "start_time": "2023-11-26T07:59:43.901057",
     "status": "completed"
    },
    "tags": []
   },
   "source": [
    "We have picked the file_id 5414471 and the corresponding paraquet file which contains the phase ' 1383 william lanier'. As we can see there are 1630 rows which contains the data from different parts of the body i.e is face,left-hand,right-hand,both the legs etc. The values ranges from zero to one in the paraquet file. \n",
    "If we look deeper into one single hand, a total of 21(0-20) sequence points can be found. Image is attatched below for the reference."
   ]
  },
  {
   "cell_type": "markdown",
   "id": "3113e7b7",
   "metadata": {
    "papermill": {
     "duration": 0.017271,
     "end_time": "2023-11-26T07:59:43.954770",
     "exception": false,
     "start_time": "2023-11-26T07:59:43.937499",
     "status": "completed"
    },
    "tags": []
   },
   "source": [
    "![Source:Mediapipe](https://developers.google.com/static/mediapipe/images/solutions/hand-landmarks.png)"
   ]
  },
  {
   "cell_type": "markdown",
   "id": "4496ad43",
   "metadata": {
    "papermill": {
     "duration": 0.017157,
     "end_time": "2023-11-26T07:59:43.989238",
     "exception": false,
     "start_time": "2023-11-26T07:59:43.972081",
     "status": "completed"
    },
    "tags": []
   },
   "source": [
    "![](https://developers.google.com/static/mediapipe/images/solutions/pose_landmarks_index.png)"
   ]
  },
  {
   "cell_type": "code",
   "execution_count": 6,
   "id": "7da752f1",
   "metadata": {
    "execution": {
     "iopub.execute_input": "2023-11-26T07:59:44.028299Z",
     "iopub.status.busy": "2023-11-26T07:59:44.027120Z",
     "iopub.status.idle": "2023-11-26T07:59:44.538728Z",
     "shell.execute_reply": "2023-11-26T07:59:44.537590Z"
    },
    "papermill": {
     "duration": 0.535127,
     "end_time": "2023-11-26T07:59:44.541643",
     "exception": false,
     "start_time": "2023-11-26T07:59:44.006516",
     "status": "completed"
    },
    "tags": []
   },
   "outputs": [
    {
     "data": {
      "image/png": "[encoded data removed]",
      "text/plain": [
       "<Figure size 800x800 with 1 Axes>"
      ]
     },
     "metadata": {},
     "output_type": "display_data"
    }
   ],
   "source": [
    "import matplotlib.pyplot as plt\n",
    "from mpl_toolkits.mplot3d import Axes3D\n",
    "\n",
    "# Assuming sample_sequence_df is a DataFrame with columns 'x_right_hand_1', 'y_right_hand_1', 'z_right_hand_1', ...\n",
    "\n",
    "# Get the hand landmarks for the right hand\n",
    "x_hand = sample_sequence_df.filter(regex=\"x_right_hand.*\").values\n",
    "y_hand = sample_sequence_df.filter(regex=\"y_right_hand.*\").values\n",
    "z_hand = sample_sequence_df.filter(regex=\"z_right_hand.*\").values\n",
    "\n",
    "# Create a 3D plot\n",
    "fig = plt.figure(figsize=(8, 8))\n",
    "ax = fig.add_subplot(111, projection='3d')\n",
    "\n",
    "# Plot the hand landmarks\n",
    "ax.scatter(x_hand, y_hand, z_hand, label='Right Hand Landmarks', marker='o', s=50)\n",
    "\n",
    "# Set axis labels\n",
    "ax.set_xlabel('X-axis')\n",
    "ax.set_ylabel('Y-axis')\n",
    "ax.set_zlabel('Z-axis')\n",
    "\n",
    "# Add legend\n",
    "ax.legend()\n",
    "\n",
    "# Show the 3D plot\n",
    "plt.title('3D Plot of Right Hand Landmarks Over Time')\n",
    "plt.show()\n",
    "\n"
   ]
  },
  {
   "cell_type": "code",
   "execution_count": 7,
   "id": "2baf85ca",
   "metadata": {
    "execution": {
     "iopub.execute_input": "2023-11-26T07:59:44.583534Z",
     "iopub.status.busy": "2023-11-26T07:59:44.583174Z",
     "iopub.status.idle": "2023-11-26T07:59:44.837274Z",
     "shell.execute_reply": "2023-11-26T07:59:44.836381Z"
    },
    "papermill": {
     "duration": 0.277318,
     "end_time": "2023-11-26T07:59:44.839332",
     "exception": false,
     "start_time": "2023-11-26T07:59:44.562014",
     "status": "completed"
    },
    "tags": []
   },
   "outputs": [
    {
     "data": {
      "image/png": "[encoded data removed]",
      "text/plain": [
       "<Figure size 1000x1000 with 1 Axes>"
      ]
     },
     "metadata": {},
     "output_type": "display_data"
    }
   ],
   "source": [
    "#Creating and animated image of right hand for phrase: 1383 william lanier\n",
    "import matplotlib.pyplot as plt\n",
    "from mpl_toolkits.mplot3d import Axes3D\n",
    "from matplotlib.animation import FuncAnimation\n",
    "import mediapipe as mp\n",
    "import numpy as np\n",
    "\n",
    "\n",
    "fig = plt.figure(figsize=(10, 10))\n",
    "ax = fig.add_subplot(111, projection='3d')\n",
    "\n",
    "# Function to initialize the 3D plot for animation\n",
    "def init():\n",
    "    ax.scatter([], [], [], label='Right Hand Landmarks', marker='o', s=50)\n",
    "    ax.set_xlabel('X-axis')\n",
    "    ax.set_ylabel('Y-axis')\n",
    "    ax.set_zlabel('Z-axis')\n",
    "    ax.legend()\n",
    "    return ax,\n",
    "\n",
    "# Function to update the 3D plot for each frame in animation\n",
    "def update(frame):\n",
    "    ax.cla()  # Clear the previous frame\n",
    "    ax.scatter(x_hand[:frame], y_hand[:frame], z_hand[:frame], label='Right Hand Landmarks', marker='o', s=50)\n",
    "    ax.set_xlabel('X-axis')\n",
    "    ax.set_ylabel('Y-axis')\n",
    "    ax.set_zlabel('Z-axis')\n",
    "    ax.legend()\n",
    "    return ax,\n",
    "\n",
    "# Create the animation\n",
    "animation = FuncAnimation(fig, update, frames=len(x_hand), init_func=init, blit=True)\n",
    "\n",
    "# Show the 3D animation\n",
    "plt.title('3D Animation of Right Hand Landmarks')\n",
    "plt.show()\n"
   ]
  },
  {
   "cell_type": "markdown",
   "id": "22e2f2ff",
   "metadata": {
    "papermill": {
     "duration": 0.019535,
     "end_time": "2023-11-26T07:59:44.878996",
     "exception": false,
     "start_time": "2023-11-26T07:59:44.859461",
     "status": "completed"
    },
    "tags": []
   },
   "source": [
    "# Preprocess the data\n",
    "Ok before preprossing the data let me clerify that our motive is to extract landmarkes data and treat it as an vector input to the transformer model thatswhy our preprocessing of the data will be accordingly. some steps are listed below  \n",
    "1. Extract Relevant Features:\n",
    "              Collect hand landmarks and pose coordinates for hands from each frame. \n",
    "2. Rearrange Data:\n",
    "             Organize the data so that each Parquet file includes both landmark data and its corresponding phrase.\n",
    "3. TFRecord Format:\n",
    "             Convert the data to TFRecord format for efficient storage and retrieval.\n",
    "4. Normalization/Scaling:\n",
    "             Normalize or scale hand landmark coordinates to ensure consistent feature scales.\n",
    "5. Handling Missing Data:\n",
    "             Address missing values by filling them with zeros, means, or using advanced imputation.\n",
    "6. Sequence Padding:\n",
    "             If needed, pad sequences to a fixed length for consistent input dimensions."
   ]
  },
  {
   "cell_type": "markdown",
   "id": "ab77cf5d",
   "metadata": {
    "papermill": {
     "duration": 0.019529,
     "end_time": "2023-11-26T07:59:44.918167",
     "exception": false,
     "start_time": "2023-11-26T07:59:44.898638",
     "status": "completed"
    },
    "tags": []
   },
   "source": [
    "**imageacdhba**"
   ]
  },
  {
   "cell_type": "markdown",
   "id": "69296193",
   "metadata": {
    "papermill": {
     "duration": 0.019445,
     "end_time": "2023-11-26T07:59:44.957252",
     "exception": false,
     "start_time": "2023-11-26T07:59:44.937807",
     "status": "completed"
    },
    "tags": []
   },
   "source": [
    "ASL fingerspelling focus on tha hand movement and hand pose we going to take all the righthand and lefthand points. And for the hand pose we are taking  13, 15, 17, 19, 21 14, 16, 18, 20, 22 this poins "
   ]
  },
  {
   "cell_type": "code",
   "execution_count": 8,
   "id": "3e12221c",
   "metadata": {
    "execution": {
     "iopub.execute_input": "2023-11-26T07:59:44.999775Z",
     "iopub.status.busy": "2023-11-26T07:59:44.998894Z",
     "iopub.status.idle": "2023-11-26T07:59:45.003809Z",
     "shell.execute_reply": "2023-11-26T07:59:45.002940Z"
    },
    "papermill": {
     "duration": 0.027727,
     "end_time": "2023-11-26T07:59:45.005751",
     "exception": false,
     "start_time": "2023-11-26T07:59:44.978024",
     "status": "completed"
    },
    "tags": []
   },
   "outputs": [],
   "source": [
    "# Pose coordinates for hand movement.\n",
    "LPOSE = [13, 15, 17, 19, 21]\n",
    "RPOSE = [14, 16, 18, 20, 22]\n",
    "POSE = LPOSE + RPOSE"
   ]
  },
  {
   "cell_type": "markdown",
   "id": "7967b3eb",
   "metadata": {
    "papermill": {
     "duration": 0.019545,
     "end_time": "2023-11-26T07:59:45.045505",
     "exception": false,
     "start_time": "2023-11-26T07:59:45.025960",
     "status": "completed"
    },
    "tags": []
   },
   "source": [
    "# Create x,y,z label names from coordinates"
   ]
  },
  {
   "cell_type": "code",
   "execution_count": 9,
   "id": "d8b7be1f",
   "metadata": {
    "execution": {
     "iopub.execute_input": "2023-11-26T07:59:45.087674Z",
     "iopub.status.busy": "2023-11-26T07:59:45.086931Z",
     "iopub.status.idle": "2023-11-26T07:59:45.093134Z",
     "shell.execute_reply": "2023-11-26T07:59:45.092216Z"
    },
    "papermill": {
     "duration": 0.029361,
     "end_time": "2023-11-26T07:59:45.095017",
     "exception": false,
     "start_time": "2023-11-26T07:59:45.065656",
     "status": "completed"
    },
    "tags": []
   },
   "outputs": [],
   "source": [
    "X = [f'x_right_hand_{i}' for i in range(21)] + [f'x_left_hand_{i}' for i in range(21)] + [f'x_pose_{i}' for i in POSE]\n",
    "Y = [f'y_right_hand_{i}' for i in range(21)] + [f'y_left_hand_{i}' for i in range(21)] + [f'y_pose_{i}' for i in POSE]\n",
    "Z = [f'z_right_hand_{i}' for i in range(21)] + [f'z_left_hand_{i}' for i in range(21)] + [f'z_pose_{i}' for i in POSE]"
   ]
  },
  {
   "cell_type": "markdown",
   "id": "8b4b698b",
   "metadata": {
    "papermill": {
     "duration": 0.020051,
     "end_time": "2023-11-26T07:59:45.135404",
     "exception": false,
     "start_time": "2023-11-26T07:59:45.115353",
     "status": "completed"
    },
    "tags": []
   },
   "source": [
    "Create feature columns from the extracted coordinates."
   ]
  },
  {
   "cell_type": "code",
   "execution_count": 10,
   "id": "f72075e7",
   "metadata": {
    "execution": {
     "iopub.execute_input": "2023-11-26T07:59:45.177694Z",
     "iopub.status.busy": "2023-11-26T07:59:45.177079Z",
     "iopub.status.idle": "2023-11-26T07:59:45.183161Z",
     "shell.execute_reply": "2023-11-26T07:59:45.182353Z"
    },
    "papermill": {
     "duration": 0.029152,
     "end_time": "2023-11-26T07:59:45.185203",
     "exception": false,
     "start_time": "2023-11-26T07:59:45.156051",
     "status": "completed"
    },
    "tags": []
   },
   "outputs": [
    {
     "data": {
      "text/plain": [
       "156"
      ]
     },
     "execution_count": 10,
     "metadata": {},
     "output_type": "execute_result"
    }
   ],
   "source": [
    "FEATURE_COLUMNS = X + Y + Z\n",
    "len(FEATURE_COLUMNS)"
   ]
  },
  {
   "cell_type": "markdown",
   "id": "18d6044c",
   "metadata": {
    "papermill": {
     "duration": 0.01988,
     "end_time": "2023-11-26T07:59:45.225743",
     "exception": false,
     "start_time": "2023-11-26T07:59:45.205863",
     "status": "completed"
    },
    "tags": []
   },
   "source": [
    "In FEATURE_COLUMNS there is 156 columns"
   ]
  },
  {
   "cell_type": "markdown",
   "id": "b1536c8e",
   "metadata": {
    "papermill": {
     "duration": 0.019644,
     "end_time": "2023-11-26T07:59:45.265782",
     "exception": false,
     "start_time": "2023-11-26T07:59:45.246138",
     "status": "completed"
    },
    "tags": []
   },
   "source": [
    "\n",
    "\n",
    "Store ids of each coordinate labels to lists"
   ]
  },
  {
   "cell_type": "code",
   "execution_count": 11,
   "id": "0db3bfbc",
   "metadata": {
    "execution": {
     "iopub.execute_input": "2023-11-26T07:59:45.307574Z",
     "iopub.status.busy": "2023-11-26T07:59:45.306711Z",
     "iopub.status.idle": "2023-11-26T07:59:45.314283Z",
     "shell.execute_reply": "2023-11-26T07:59:45.313387Z"
    },
    "papermill": {
     "duration": 0.030642,
     "end_time": "2023-11-26T07:59:45.316215",
     "exception": false,
     "start_time": "2023-11-26T07:59:45.285573",
     "status": "completed"
    },
    "tags": []
   },
   "outputs": [],
   "source": [
    "X_IDX = [i for i, col in enumerate(FEATURE_COLUMNS)  if \"x_\" in col]\n",
    "Y_IDX = [i for i, col in enumerate(FEATURE_COLUMNS)  if \"y_\" in col]\n",
    "Z_IDX = [i for i, col in enumerate(FEATURE_COLUMNS)  if \"z_\" in col]\n",
    "\n",
    "RHAND_IDX = [i for i, col in enumerate(FEATURE_COLUMNS)  if \"right\" in col]\n",
    "LHAND_IDX = [i for i, col in enumerate(FEATURE_COLUMNS)  if  \"left\" in col]\n",
    "RPOSE_IDX = [i for i, col in enumerate(FEATURE_COLUMNS)  if  \"pose\" in col and int(col[-2:]) in RPOSE]\n",
    "LPOSE_IDX = [i for i, col in enumerate(FEATURE_COLUMNS)  if  \"pose\" in col and int(col[-2:]) in LPOSE]"
   ]
  },
  {
   "cell_type": "markdown",
   "id": "259c2dd7",
   "metadata": {
    "papermill": {
     "duration": 0.019677,
     "end_time": "2023-11-26T07:59:45.355767",
     "exception": false,
     "start_time": "2023-11-26T07:59:45.336090",
     "status": "completed"
    },
    "tags": []
   },
   "source": [
    "# write the dataset as TFRecords\n",
    "We have created a new column named FEATURE_COLUMNS from the existing paraquet files structure. We have handpicked the data for pose,left-hand,right-hand to be included in this new feature_column. The size of this new column is 156 which is spread across to capture the details i.e left/right-hand and pose.\n"
   ]
  },
  {
   "cell_type": "code",
   "execution_count": 12,
   "id": "c7b7a8f3",
   "metadata": {
    "execution": {
     "iopub.execute_input": "2023-11-26T07:59:45.397395Z",
     "iopub.status.busy": "2023-11-26T07:59:45.396611Z",
     "iopub.status.idle": "2023-11-26T08:09:17.581886Z",
     "shell.execute_reply": "2023-11-26T08:09:17.580894Z"
    },
    "papermill": {
     "duration": 572.208509,
     "end_time": "2023-11-26T08:09:17.584086",
     "exception": false,
     "start_time": "2023-11-26T07:59:45.375577",
     "status": "completed"
    },
    "tags": []
   },
   "outputs": [
    {
     "data": {
      "application/vnd.jupyter.widget-view+json": {
       "model_id": "6d5d816c526949bf931d21113ee55363",
       "version_major": 2,
       "version_minor": 0
      },
      "text/plain": [
       "  0%|          | 0/68 [00:00<?, ?it/s]"
      ]
     },
     "metadata": {},
     "output_type": "display_data"
    }
   ],
   "source": [
    "# Set length of frames to 128\n",
    "FRAME_LEN = 200\n",
    "\n",
    "# Create directory to store the new data\n",
    "if not os.path.isdir(\"preprocessed\"):\n",
    "    os.mkdir(\"preprocessed\")\n",
    "else:\n",
    "    shutil.rmtree(\"preprocessed\")\n",
    "    os.mkdir(\"preprocessed\")\n",
    "\n",
    "# Loop through each file_id\n",
    "for file_id in tqdm(df.file_id.unique()):\n",
    "    # Parquet file name\n",
    "    pq_file = f\"/kaggle/input/asl-fingerspelling/train_landmarks/{file_id}.parquet\"\n",
    "    # Filter train.csv and fetch entries only for the relevant file_id\n",
    "    file_df = df.loc[df[\"file_id\"] == file_id]\n",
    "    # Fetch the parquet file\n",
    "    parquet_df = pq.read_table(f\"/kaggle/input/asl-fingerspelling/train_landmarks/{str(file_id)}.parquet\",\n",
    "                              columns=['sequence_id'] + FEATURE_COLUMNS).to_pandas()\n",
    "    # File name for the updated data\n",
    "    tf_file = f\"preprocessed/{file_id}.tfrecord\"\n",
    "    parquet_numpy = parquet_df.to_numpy()\n",
    "    # Initialize the pointer to write the output of \n",
    "    # each `for loop` below as a sequence into the file.\n",
    "    with tf.io.TFRecordWriter(tf_file) as file_writer:\n",
    "        # Loop through each sequence in file.\n",
    "        for seq_id, phrase in zip(file_df.sequence_id, file_df.phrase):\n",
    "            # Fetch sequence data\n",
    "            frames = parquet_numpy[parquet_df.index == seq_id]\n",
    "            \n",
    "            # Calculate the number of NaN values in each hand landmark\n",
    "            r_nonan = np.sum(np.sum(np.isnan(frames[:, RHAND_IDX]), axis = 1) == 0)\n",
    "            l_nonan = np.sum(np.sum(np.isnan(frames[:, LHAND_IDX]), axis = 1) == 0)\n",
    "            no_nan = max(r_nonan, l_nonan)\n",
    "            \n",
    "            if 2*len(phrase)<no_nan:\n",
    "                features = {FEATURE_COLUMNS[i]: tf.train.Feature(\n",
    "                    float_list=tf.train.FloatList(value=frames[:, i])) for i in range(len(FEATURE_COLUMNS))}\n",
    "                features[\"phrase\"] = tf.train.Feature(bytes_list=tf.train.BytesList(value=[bytes(phrase, 'utf-8')]))\n",
    "                record_bytes = tf.train.Example(features=tf.train.Features(feature=features)).SerializeToString()\n",
    "                file_writer.write(record_bytes)"
   ]
  },
  {
   "cell_type": "markdown",
   "id": "8ca27a74",
   "metadata": {
    "papermill": {
     "duration": 0.019943,
     "end_time": "2023-11-26T08:09:17.624782",
     "exception": false,
     "start_time": "2023-11-26T08:09:17.604839",
     "status": "completed"
    },
    "tags": []
   },
   "source": [
    "# Get the saved TFRecord files into a list\n"
   ]
  },
  {
   "cell_type": "code",
   "execution_count": 13,
   "id": "75ac620f",
   "metadata": {
    "execution": {
     "iopub.execute_input": "2023-11-26T08:09:17.666932Z",
     "iopub.status.busy": "2023-11-26T08:09:17.666556Z",
     "iopub.status.idle": "2023-11-26T08:09:17.722127Z",
     "shell.execute_reply": "2023-11-26T08:09:17.721157Z"
    },
    "papermill": {
     "duration": 0.079145,
     "end_time": "2023-11-26T08:09:17.724408",
     "exception": false,
     "start_time": "2023-11-26T08:09:17.645263",
     "status": "completed"
    },
    "tags": []
   },
   "outputs": [
    {
     "name": "stdout",
     "output_type": "stream",
     "text": [
      "List of 68 TFRecord files.\n"
     ]
    }
   ],
   "source": [
    "tf_records = df.file_id.map(lambda x: f'/kaggle/working/preprocessed/{x}.tfrecord').unique()\n",
    "print(f\"List of {len(tf_records)} TFRecord files.\")\n"
   ]
  },
  {
   "cell_type": "markdown",
   "id": "d59014b5",
   "metadata": {
    "papermill": {
     "duration": 0.019943,
     "end_time": "2023-11-26T08:09:17.764851",
     "exception": false,
     "start_time": "2023-11-26T08:09:17.744908",
     "status": "completed"
    },
    "tags": []
   },
   "source": [
    "# Load character_to_prediction json file"
   ]
  },
  {
   "cell_type": "code",
   "execution_count": 14,
   "id": "1541b5e9",
   "metadata": {
    "execution": {
     "iopub.execute_input": "2023-11-26T08:09:17.806688Z",
     "iopub.status.busy": "2023-11-26T08:09:17.805950Z",
     "iopub.status.idle": "2023-11-26T08:09:17.817635Z",
     "shell.execute_reply": "2023-11-26T08:09:17.816946Z"
    },
    "papermill": {
     "duration": 0.034637,
     "end_time": "2023-11-26T08:09:17.819448",
     "exception": false,
     "start_time": "2023-11-26T08:09:17.784811",
     "status": "completed"
    },
    "tags": []
   },
   "outputs": [],
   "source": [
    "with open (\"/kaggle/input/asl-fingerspelling/character_to_prediction_index.json\", \"r\") as f:\n",
    "    char_to_num = json.load(f)\n",
    "\n",
    "# Add pad_token, start pointer and end pointer to the dict\n",
    "pad_token = 'P'\n",
    "start_token = '<'\n",
    "end_token = '>'\n",
    "pad_token_idx = 59\n",
    "start_token_idx = 60\n",
    "end_token_idx = 61\n",
    "\n",
    "char_to_num[pad_token] = pad_token_idx\n",
    "char_to_num[start_token] = start_token_idx\n",
    "char_to_num[end_token] = end_token_idx\n",
    "num_to_char = {j:i for i,j in char_to_num.items()}"
   ]
  },
  {
   "cell_type": "markdown",
   "id": "a35679e9",
   "metadata": {
    "papermill": {
     "duration": 0.019808,
     "end_time": "2023-11-26T08:09:17.859139",
     "exception": false,
     "start_time": "2023-11-26T08:09:17.839331",
     "status": "completed"
    },
    "tags": []
   },
   "source": [
    "# Resizing and Padding:-\n",
    " The hand landmark preprocessing function ensures uniformity in length by resizing to a fixed size and pads with zeros if needed. It identifies the dominant hand based on fewer NaN values, signifying its presence in the frame. The chosen hand's coordinates are normalized by subtracting the mean and dividing by the standard deviation. Handling NaN values involves replacing them with zeros. The final tensor, a combination of hand and pose information, is reshaped for ASL fingerspelling recognition. This process enhances data consistency and prepares it for effective use in deep learning models."
   ]
  },
  {
   "cell_type": "code",
   "execution_count": 15,
   "id": "78b37e80",
   "metadata": {
    "execution": {
     "iopub.execute_input": "2023-11-26T08:09:17.900136Z",
     "iopub.status.busy": "2023-11-26T08:09:17.899856Z",
     "iopub.status.idle": "2023-11-26T08:09:17.917720Z",
     "shell.execute_reply": "2023-11-26T08:09:17.916908Z"
    },
    "papermill": {
     "duration": 0.040587,
     "end_time": "2023-11-26T08:09:17.919564",
     "exception": false,
     "start_time": "2023-11-26T08:09:17.878977",
     "status": "completed"
    },
    "tags": []
   },
   "outputs": [],
   "source": [
    "# Reference: https://www.kaggle.com/code/irohith/aslfr-transformer/notebook\n",
    "\n",
    "# Function to resize and add padding.\n",
    "def resize_pad(x):\n",
    "    if tf.shape(x)[0] < FRAME_LEN:\n",
    "        x = tf.pad(x, ([[0, FRAME_LEN-tf.shape(x)[0]], [0, 0], [0, 0]]))\n",
    "    else:\n",
    "        x = tf.image.resize(x, (FRAME_LEN, tf.shape(x)[1]))\n",
    "    return x\n",
    "\n",
    "# Detect the dominant hand from the number of NaN values.\n",
    "# Dominant hand will have less NaN values since it is in frame moving.\n",
    "def pre_process(x):\n",
    "    rhand = tf.gather(x, RHAND_IDX, axis=1)\n",
    "    lhand = tf.gather(x, LHAND_IDX, axis=1)\n",
    "    rpose = tf.gather(x, RPOSE_IDX, axis=1)\n",
    "    lpose = tf.gather(x, LPOSE_IDX, axis=1)\n",
    "    \n",
    "    rnan_idx = tf.reduce_any(tf.math.is_nan(rhand), axis=1)\n",
    "    lnan_idx = tf.reduce_any(tf.math.is_nan(lhand), axis=1)\n",
    "    \n",
    "    rnans = tf.math.count_nonzero(rnan_idx)\n",
    "    lnans = tf.math.count_nonzero(lnan_idx)\n",
    "    \n",
    "    # For dominant hand\n",
    "    if rnans > lnans:\n",
    "        hand = lhand\n",
    "        pose = lpose\n",
    "        \n",
    "        hand_x = hand[:, 0*(len(LHAND_IDX)//3) : 1*(len(LHAND_IDX)//3)]\n",
    "        hand_y = hand[:, 1*(len(LHAND_IDX)//3) : 2*(len(LHAND_IDX)//3)]\n",
    "        hand_z = hand[:, 2*(len(LHAND_IDX)//3) : 3*(len(LHAND_IDX)//3)]\n",
    "        hand = tf.concat([1-hand_x, hand_y, hand_z], axis=1)\n",
    "        \n",
    "        pose_x = pose[:, 0*(len(LPOSE_IDX)//3) : 1*(len(LPOSE_IDX)//3)]\n",
    "        pose_y = pose[:, 1*(len(LPOSE_IDX)//3) : 2*(len(LPOSE_IDX)//3)]\n",
    "        pose_z = pose[:, 2*(len(LPOSE_IDX)//3) : 3*(len(LPOSE_IDX)//3)]\n",
    "        pose = tf.concat([1-pose_x, pose_y, pose_z], axis=1)\n",
    "    else:\n",
    "        hand = rhand\n",
    "        pose = rpose\n",
    "    \n",
    "    hand_x = hand[:, 0*(len(LHAND_IDX)//3) : 1*(len(LHAND_IDX)//3)]\n",
    "    hand_y = hand[:, 1*(len(LHAND_IDX)//3) : 2*(len(LHAND_IDX)//3)]\n",
    "    hand_z = hand[:, 2*(len(LHAND_IDX)//3) : 3*(len(LHAND_IDX)//3)]\n",
    "    hand = tf.concat([hand_x[..., tf.newaxis], hand_y[..., tf.newaxis], hand_z[..., tf.newaxis]], axis=-1)\n",
    "    \n",
    "    mean = tf.math.reduce_mean(hand, axis=1)[:, tf.newaxis, :]\n",
    "    std = tf.math.reduce_std(hand, axis=1)[:, tf.newaxis, :]\n",
    "    hand = (hand - mean) / std\n",
    "\n",
    "    pose_x = pose[:, 0*(len(LPOSE_IDX)//3) : 1*(len(LPOSE_IDX)//3)]\n",
    "    pose_y = pose[:, 1*(len(LPOSE_IDX)//3) : 2*(len(LPOSE_IDX)//3)]\n",
    "    pose_z = pose[:, 2*(len(LPOSE_IDX)//3) : 3*(len(LPOSE_IDX)//3)]\n",
    "    pose = tf.concat([pose_x[..., tf.newaxis], pose_y[..., tf.newaxis], pose_z[..., tf.newaxis]], axis=-1)\n",
    "    \n",
    "    x = tf.concat([hand, pose], axis=1)\n",
    "    x = resize_pad(x)\n",
    "    \n",
    "    x = tf.where(tf.math.is_nan(x), tf.zeros_like(x), x)\n",
    "    x = tf.reshape(x, (FRAME_LEN, len(LHAND_IDX) + len(LPOSE_IDX)))\n",
    "    return x"
   ]
  },
  {
   "cell_type": "markdown",
   "id": "0c55f5b5",
   "metadata": {
    "papermill": {
     "duration": 0.019627,
     "end_time": "2023-11-26T08:09:17.959044",
     "exception": false,
     "start_time": "2023-11-26T08:09:17.939417",
     "status": "completed"
    },
    "tags": []
   },
   "source": [
    "# Create function to parse data from TFRecord format\n",
    "This function will read the TFRecord data and convert it to Tensors.\n",
    "It returns a tuple of tensors containing landmarks and phrases."
   ]
  },
  {
   "cell_type": "code",
   "execution_count": 16,
   "id": "cc5e87db",
   "metadata": {
    "execution": {
     "iopub.execute_input": "2023-11-26T08:09:18.000591Z",
     "iopub.status.busy": "2023-11-26T08:09:18.000045Z",
     "iopub.status.idle": "2023-11-26T08:09:18.005723Z",
     "shell.execute_reply": "2023-11-26T08:09:18.004886Z"
    },
    "papermill": {
     "duration": 0.02849,
     "end_time": "2023-11-26T08:09:18.007584",
     "exception": false,
     "start_time": "2023-11-26T08:09:17.979094",
     "status": "completed"
    },
    "tags": []
   },
   "outputs": [],
   "source": [
    "def decode_fn(record_bytes):\n",
    "    schema = {COL: tf.io.VarLenFeature(dtype=tf.float32) for COL in FEATURE_COLUMNS}\n",
    "    schema[\"phrase\"] = tf.io.FixedLenFeature([], dtype=tf.string)\n",
    "    features = tf.io.parse_single_example(record_bytes, schema)\n",
    "    phrase = features[\"phrase\"]\n",
    "    landmarks = ([tf.sparse.to_dense(features[COL]) for COL in FEATURE_COLUMNS])\n",
    "    # Transpose to maintain the original shape of landmarks data.\n",
    "    landmarks = tf.transpose(landmarks)\n",
    "    \n",
    "    return landmarks, phrase"
   ]
  },
  {
   "cell_type": "markdown",
   "id": "f87966ed",
   "metadata": {
    "papermill": {
     "duration": 0.020116,
     "end_time": "2023-11-26T08:09:18.047590",
     "exception": false,
     "start_time": "2023-11-26T08:09:18.027474",
     "status": "completed"
    },
    "tags": []
   },
   "source": [
    "# Create function to convert the data"
   ]
  },
  {
   "cell_type": "markdown",
   "id": "66c3323e",
   "metadata": {
    "papermill": {
     "duration": 0.019737,
     "end_time": "2023-11-26T08:09:18.087323",
     "exception": false,
     "start_time": "2023-11-26T08:09:18.067586",
     "status": "completed"
    },
    "tags": []
   },
   "source": [
    "This function transposes and applies masks to the landmark coordinates. It also vectorizes the phrase corresponding to the landmarks using character_to_prediction_index.json"
   ]
  },
  {
   "cell_type": "code",
   "execution_count": 17,
   "id": "f6ae3a90",
   "metadata": {
    "execution": {
     "iopub.execute_input": "2023-11-26T08:09:18.129214Z",
     "iopub.status.busy": "2023-11-26T08:09:18.128221Z",
     "iopub.status.idle": "2023-11-26T08:09:20.946376Z",
     "shell.execute_reply": "2023-11-26T08:09:20.945416Z"
    },
    "papermill": {
     "duration": 2.841571,
     "end_time": "2023-11-26T08:09:20.948756",
     "exception": false,
     "start_time": "2023-11-26T08:09:18.107185",
     "status": "completed"
    },
    "tags": []
   },
   "outputs": [],
   "source": [
    "table = tf.lookup.StaticHashTable(\n",
    "    initializer=tf.lookup.KeyValueTensorInitializer(\n",
    "        keys=list(char_to_num.keys()),\n",
    "        values=list(char_to_num.values()),\n",
    "    ),\n",
    "    default_value=tf.constant(-1),\n",
    "    name=\"class_weight\"\n",
    ")\n",
    "\n",
    "def convert_fn(landmarks, phrase):\n",
    "    # Add start and end pointers to phrase.\n",
    "    phrase = start_token + phrase + end_token\n",
    "    phrase = tf.strings.bytes_split(phrase)\n",
    "    phrase = table.lookup(phrase)\n",
    "    # Vectorize and add padding.\n",
    "    phrase = tf.pad(phrase, paddings=[[0, 64 - tf.shape(phrase)[0]]], mode = 'CONSTANT',\n",
    "                    constant_values = pad_token_idx)\n",
    "    # Apply pre_process function to the landmarks.\n",
    "    return pre_process(landmarks), phrase"
   ]
  },
  {
   "cell_type": "markdown",
   "id": "ecca35fe",
   "metadata": {
    "execution": {
     "iopub.execute_input": "2023-11-24T12:57:25.617449Z",
     "iopub.status.busy": "2023-11-24T12:57:25.616391Z",
     "iopub.status.idle": "2023-11-24T12:57:25.623529Z",
     "shell.execute_reply": "2023-11-24T12:57:25.622293Z",
     "shell.execute_reply.started": "2023-11-24T12:57:25.617406Z"
    },
    "papermill": {
     "duration": 0.019857,
     "end_time": "2023-11-26T08:09:20.989109",
     "exception": false,
     "start_time": "2023-11-26T08:09:20.969252",
     "status": "completed"
    },
    "tags": []
   },
   "source": [
    "Use the functions we defined above to create the final dataset."
   ]
  },
  {
   "cell_type": "markdown",
   "id": "56d6235e",
   "metadata": {
    "papermill": {
     "duration": 0.019753,
     "end_time": "2023-11-26T08:09:21.028871",
     "exception": false,
     "start_time": "2023-11-26T08:09:21.009118",
     "status": "completed"
    },
    "tags": []
   },
   "source": [
    "# Train and validation split/Create the final datasets"
   ]
  },
  {
   "cell_type": "code",
   "execution_count": 18,
   "id": "47fab8b3",
   "metadata": {
    "execution": {
     "iopub.execute_input": "2023-11-26T08:09:21.071380Z",
     "iopub.status.busy": "2023-11-26T08:09:21.070499Z",
     "iopub.status.idle": "2023-11-26T08:09:22.738707Z",
     "shell.execute_reply": "2023-11-26T08:09:22.737809Z"
    },
    "papermill": {
     "duration": 1.691638,
     "end_time": "2023-11-26T08:09:22.741022",
     "exception": false,
     "start_time": "2023-11-26T08:09:21.049384",
     "status": "completed"
    },
    "tags": []
   },
   "outputs": [],
   "source": [
    "batch_size = 64\n",
    "train_len = int(0.8 * len(tf_records))\n",
    "\n",
    "# Create a TFRecordDataset for training data, decode, convert, batch, prefetch, and cache\n",
    "train_ds = tf.data.TFRecordDataset(tf_records[:train_len]) \\\n",
    "    .map(decode_fn) \\\n",
    "    .map(convert_fn) \\\n",
    "    .batch(batch_size) \\\n",
    "    .prefetch(buffer_size=tf.data.AUTOTUNE) \\\n",
    "    .cache()\n",
    "\n",
    "# Create a TFRecordDataset for validation data, decode, convert, batch, prefetch, and cache\n",
    "valid_ds = tf.data.TFRecordDataset(tf_records[train_len:]) \\\n",
    "    .map(decode_fn) \\\n",
    "    .map(convert_fn) \\\n",
    "    .batch(batch_size) \\\n",
    "    .prefetch(buffer_size=tf.data.AUTOTUNE) \\\n",
    "    .cache()\n"
   ]
  },
  {
   "cell_type": "code",
   "execution_count": 19,
   "id": "c688c2d8",
   "metadata": {
    "execution": {
     "iopub.execute_input": "2023-11-26T08:09:22.785760Z",
     "iopub.status.busy": "2023-11-26T08:09:22.785429Z",
     "iopub.status.idle": "2023-11-26T08:09:23.212276Z",
     "shell.execute_reply": "2023-11-26T08:09:23.211254Z"
    },
    "papermill": {
     "duration": 0.450239,
     "end_time": "2023-11-26T08:09:23.214494",
     "exception": false,
     "start_time": "2023-11-26T08:09:22.764255",
     "status": "completed"
    },
    "tags": []
   },
   "outputs": [
    {
     "name": "stdout",
     "output_type": "stream",
     "text": [
      "Batch 1 - Features shape: (64, 200, 78), Labels shape: (64, 64)\n",
      "First sequence in the batch:\n",
      "Features:\n",
      "tf.Tensor(\n",
      "[[-0.27655613  1.5076838   2.3224409  ...  0.47083145  0.7710637\n",
      "  -3.7243094 ]\n",
      " [ 0.          0.          0.         ...  0.39278966  0.84587616\n",
      "  -3.1558092 ]\n",
      " [ 0.          0.          0.         ...  0.45422083  0.8396666\n",
      "  -3.5316234 ]\n",
      " ...\n",
      " [ 0.          0.          0.         ...  0.          0.\n",
      "   0.        ]\n",
      " [ 0.          0.          0.         ...  0.          0.\n",
      "   0.        ]\n",
      " [ 0.          0.          0.         ...  0.          0.\n",
      "   0.        ]], shape=(200, 78), dtype=float32)\n",
      "Labels:\n",
      "tf.Tensor(\n",
      "[60 18  0 34 49 36 36 42 39 46 52 50 36 61 59 59 59 59 59 59 59 59 59 59\n",
      " 59 59 59 59 59 59 59 59 59 59 59 59 59 59 59 59 59 59 59 59 59 59 59 59\n",
      " 59 59 59 59 59 59 59 59 59 59 59 59 59 59 59 59], shape=(64,), dtype=int32)\n",
      "\n",
      "\n"
     ]
    }
   ],
   "source": [
    "for i, element in enumerate(train_ds.take(1)):  \n",
    "    features, labels = element\n",
    "    print(f\"Batch {i + 1} - Features shape: {features.shape}, Labels shape: {labels.shape}\")\n",
    "    print(\"First sequence in the batch:\")\n",
    "    print(\"Features:\")\n",
    "    print(features[0])\n",
    "    print(\"Labels:\")\n",
    "    print(labels[0])\n",
    "    print(\"\\n\")"
   ]
  },
  {
   "cell_type": "markdown",
   "id": "8f5eef51",
   "metadata": {
    "papermill": {
     "duration": 0.02004,
     "end_time": "2023-11-26T08:09:23.255346",
     "exception": false,
     "start_time": "2023-11-26T08:09:23.235306",
     "status": "completed"
    },
    "tags": []
   },
   "source": [
    "# Input Layers for Transformer Model\n",
    "\n",
    "Refernce - [Link](https://keras.io/examples/audio/transformer_asr/#define-the-transformer-input-layer)"
   ]
  },
  {
   "cell_type": "code",
   "execution_count": 20,
   "id": "b522e87b",
   "metadata": {
    "execution": {
     "iopub.execute_input": "2023-11-26T08:09:23.297337Z",
     "iopub.status.busy": "2023-11-26T08:09:23.296975Z",
     "iopub.status.idle": "2023-11-26T08:09:23.306739Z",
     "shell.execute_reply": "2023-11-26T08:09:23.305855Z"
    },
    "papermill": {
     "duration": 0.032854,
     "end_time": "2023-11-26T08:09:23.308565",
     "exception": false,
     "start_time": "2023-11-26T08:09:23.275711",
     "status": "completed"
    },
    "tags": []
   },
   "outputs": [],
   "source": [
    "class TokenEmbedding(layers.Layer):\n",
    "    def __init__(self, num_vocab=1000, maxlen=100, num_hid=64):\n",
    "        super().__init__()\n",
    "        self.emb = tf.keras.layers.Embedding(num_vocab, num_hid)\n",
    "        self.pos_emb = layers.Embedding(input_dim=maxlen, output_dim=num_hid)\n",
    "\n",
    "    def call(self, x):\n",
    "        maxlen = tf.shape(x)[-1]\n",
    "        x = self.emb(x)\n",
    "        positions = tf.range(start=0, limit=maxlen, delta=1)\n",
    "        positions = self.pos_emb(positions)\n",
    "        return x + positions\n",
    "\n",
    "\n",
    "class LandmarkEmbedding(layers.Layer):\n",
    "    def __init__(self, num_hid=64, maxlen=100):\n",
    "        super().__init__()\n",
    "        self.conv1 = tf.keras.layers.Conv1D(\n",
    "            num_hid, 11, strides=2, padding=\"same\", activation=\"relu\"\n",
    "        )\n",
    "        self.conv2 = tf.keras.layers.Conv1D(\n",
    "            num_hid, 11, strides=2, padding=\"same\", activation=\"relu\"\n",
    "        )\n",
    "        self.conv3 = tf.keras.layers.Conv1D(\n",
    "            num_hid, 11, strides=2, padding=\"same\", activation=\"relu\"\n",
    "        )\n",
    "\n",
    "    def call(self, x):\n",
    "        x = self.conv1(x)\n",
    "        x = self.conv2(x)\n",
    "        return self.conv3(x)"
   ]
  },
  {
   "cell_type": "markdown",
   "id": "45b65ca4",
   "metadata": {
    "papermill": {
     "duration": 0.01983,
     "end_time": "2023-11-26T08:09:23.348382",
     "exception": false,
     "start_time": "2023-11-26T08:09:23.328552",
     "status": "completed"
    },
    "tags": []
   },
   "source": [
    "# Transformer Encoder Layer\n",
    "\n",
    "Refernce - [Link](https://keras.io/examples/audio/transformer_asr/#transformer-encoder-layer)"
   ]
  },
  {
   "cell_type": "code",
   "execution_count": 21,
   "id": "0bf768d3",
   "metadata": {
    "execution": {
     "iopub.execute_input": "2023-11-26T08:09:23.389978Z",
     "iopub.status.busy": "2023-11-26T08:09:23.389642Z",
     "iopub.status.idle": "2023-11-26T08:09:23.397478Z",
     "shell.execute_reply": "2023-11-26T08:09:23.396653Z"
    },
    "papermill": {
     "duration": 0.030781,
     "end_time": "2023-11-26T08:09:23.399389",
     "exception": false,
     "start_time": "2023-11-26T08:09:23.368608",
     "status": "completed"
    },
    "tags": []
   },
   "outputs": [],
   "source": [
    "class TransformerEncoder(layers.Layer):\n",
    "    def __init__(self, embed_dim, num_heads, feed_forward_dim, rate=0.1):\n",
    "        super().__init__()\n",
    "        self.att = layers.MultiHeadAttention(num_heads=num_heads, key_dim=embed_dim)\n",
    "        self.ffn = keras.Sequential(\n",
    "            [\n",
    "                layers.Dense(feed_forward_dim, activation=\"relu\"),\n",
    "                layers.Dense(embed_dim),\n",
    "            ]\n",
    "        )\n",
    "        self.layernorm1 = layers.LayerNormalization(epsilon=1e-6)\n",
    "        self.layernorm2 = layers.LayerNormalization(epsilon=1e-6)\n",
    "        self.dropout1 = layers.Dropout(rate)\n",
    "        self.dropout2 = layers.Dropout(rate)\n",
    "\n",
    "    def call(self, inputs, training):\n",
    "        attn_output = self.att(inputs, inputs)\n",
    "        attn_output = self.dropout1(attn_output, training=training)\n",
    "        out1 = self.layernorm1(inputs + attn_output)\n",
    "        ffn_output = self.ffn(out1)\n",
    "        ffn_output = self.dropout2(ffn_output, training=training)\n",
    "        return self.layernorm2(out1 + ffn_output)"
   ]
  },
  {
   "cell_type": "markdown",
   "id": "48e69e43",
   "metadata": {
    "papermill": {
     "duration": 0.019743,
     "end_time": "2023-11-26T08:09:23.439061",
     "exception": false,
     "start_time": "2023-11-26T08:09:23.419318",
     "status": "completed"
    },
    "tags": []
   },
   "source": [
    "# Decoder Layer of Transformer Model"
   ]
  },
  {
   "cell_type": "code",
   "execution_count": 22,
   "id": "e340eed4",
   "metadata": {
    "execution": {
     "iopub.execute_input": "2023-11-26T08:09:23.480773Z",
     "iopub.status.busy": "2023-11-26T08:09:23.480465Z",
     "iopub.status.idle": "2023-11-26T08:09:23.493427Z",
     "shell.execute_reply": "2023-11-26T08:09:23.492588Z"
    },
    "papermill": {
     "duration": 0.035958,
     "end_time": "2023-11-26T08:09:23.495277",
     "exception": false,
     "start_time": "2023-11-26T08:09:23.459319",
     "status": "completed"
    },
    "tags": []
   },
   "outputs": [],
   "source": [
    "# Customized to add `training` variable\n",
    "# Reference: https://www.kaggle.com/code/shlomoron/aslfr-a-simple-transformer/notebook\n",
    "\n",
    "class TransformerDecoder(layers.Layer):\n",
    "    def __init__(self, embed_dim, num_heads, feed_forward_dim, dropout_rate=0.1):\n",
    "        super().__init__()\n",
    "        self.layernorm1 = layers.LayerNormalization(epsilon=1e-6)\n",
    "        self.layernorm2 = layers.LayerNormalization(epsilon=1e-6)\n",
    "        self.layernorm3 = layers.LayerNormalization(epsilon=1e-6)\n",
    "        self.self_att = layers.MultiHeadAttention(\n",
    "            num_heads=num_heads, key_dim=embed_dim\n",
    "        )\n",
    "        self.enc_att = layers.MultiHeadAttention(num_heads=num_heads, key_dim=embed_dim)\n",
    "        self.self_dropout = layers.Dropout(0.5)\n",
    "        self.enc_dropout = layers.Dropout(0.1)\n",
    "        self.ffn_dropout = layers.Dropout(0.1)\n",
    "        self.ffn = keras.Sequential(\n",
    "            [\n",
    "                layers.Dense(feed_forward_dim, activation=\"relu\"),\n",
    "                layers.Dense(embed_dim),\n",
    "            ]\n",
    "        )\n",
    "    def causal_attention_mask(self, batch_size, n_dest, n_src, dtype):\n",
    "        \"\"\"Masks the upper half of the dot product matrix in self attention.\n",
    "\n",
    "        This prevents flow of information from future tokens to current token.\n",
    "        1's in the lower triangle, counting from the lower right corner.\n",
    "        \"\"\"\n",
    "        i = tf.range(n_dest)[:, None]\n",
    "        j = tf.range(n_src)\n",
    "        m = i >= j - n_src + n_dest\n",
    "        mask = tf.cast(m, dtype)\n",
    "        mask = tf.reshape(mask, [1, n_dest, n_src])\n",
    "        mult = tf.concat(\n",
    "            [batch_size[..., tf.newaxis], tf.constant([1, 1], dtype=tf.int32)], 0\n",
    "        )\n",
    "        return tf.tile(mask, mult)\n",
    "    def call(self, enc_out, target, training):\n",
    "        input_shape = tf.shape(target)\n",
    "        batch_size = input_shape[0]\n",
    "        seq_len = input_shape[1]\n",
    "        causal_mask = self.causal_attention_mask(batch_size, seq_len, seq_len, tf.bool)\n",
    "        target_att = self.self_att(target, target, attention_mask=causal_mask)\n",
    "        target_norm = self.layernorm1(target + self.self_dropout(target_att, training = training))\n",
    "        enc_out = self.enc_att(target_norm, enc_out)\n",
    "        enc_out_norm = self.layernorm2(self.enc_dropout(enc_out, training = training) + target_norm)\n",
    "        ffn_out = self.ffn(enc_out_norm)\n",
    "        ffn_out_norm = self.layernorm3(enc_out_norm + self.ffn_dropout(ffn_out, training = training))\n",
    "        return ffn_out_norm"
   ]
  },
  {
   "cell_type": "markdown",
   "id": "627c8325",
   "metadata": {
    "papermill": {
     "duration": 0.019761,
     "end_time": "2023-11-26T08:09:23.535052",
     "exception": false,
     "start_time": "2023-11-26T08:09:23.515291",
     "status": "completed"
    },
    "tags": []
   },
   "source": [
    "# Creation of Transformer Model\n",
    "\n",
    "Reference - [Link](https://keras.io/examples/audio/transformer_asr/#complete-the-transformer-model)"
   ]
  },
  {
   "cell_type": "code",
   "execution_count": 23,
   "id": "789c5237",
   "metadata": {
    "execution": {
     "iopub.execute_input": "2023-11-26T08:09:23.577856Z",
     "iopub.status.busy": "2023-11-26T08:09:23.577558Z",
     "iopub.status.idle": "2023-11-26T08:09:23.598541Z",
     "shell.execute_reply": "2023-11-26T08:09:23.597727Z"
    },
    "papermill": {
     "duration": 0.045361,
     "end_time": "2023-11-26T08:09:23.600358",
     "exception": false,
     "start_time": "2023-11-26T08:09:23.554997",
     "status": "completed"
    },
    "tags": []
   },
   "outputs": [],
   "source": [
    "# Customized to add edit_dist metric and training variable.\n",
    "# Reference:\n",
    "# https://www.kaggle.com/code/irohith/aslfr-transformer/notebook\n",
    "# https://www.kaggle.com/code/shlomoron/aslfr-a-simple-transformer/notebook\n",
    "\n",
    "class Transformer(keras.Model):\n",
    "    def __init__(self, num_hid=64, num_head=2, num_feed_forward=128, source_maxlen=100, target_maxlen=100, num_layers_enc=4, num_layers_dec=1, num_classes=60):\n",
    "        super().__init__()\n",
    "        self.loss_metric = keras.metrics.Mean(name=\"loss\")\n",
    "        self.acc_metric = keras.metrics.SparseCategoricalAccuracy(name=\"accuracy\")\n",
    "        self.num_layers_enc = num_layers_enc\n",
    "        self.num_layers_dec = num_layers_dec\n",
    "        self.target_maxlen = target_maxlen\n",
    "        self.num_classes = num_classes\n",
    "\n",
    "        self.enc_input = LandmarkEmbedding(num_hid=num_hid, maxlen=source_maxlen)\n",
    "        self.dec_input = TokenEmbedding(num_vocab=num_classes, maxlen=target_maxlen, num_hid=num_hid)\n",
    "\n",
    "        self.encoder = keras.Sequential(\n",
    "            [self.enc_input]\n",
    "            + [TransformerEncoder(num_hid, num_head, num_feed_forward) for _ in range(num_layers_enc)]\n",
    "        )\n",
    "\n",
    "        for i in range(num_layers_dec):\n",
    "            setattr(self, f\"dec_layer_{i}\", TransformerDecoder(num_hid, num_head, num_feed_forward))\n",
    "\n",
    "        self.classifier = layers.Dense(num_classes)\n",
    "\n",
    "    def decode(self, enc_out, target, training):\n",
    "        y = self.dec_input(target)\n",
    "        for i in range(self.num_layers_dec):\n",
    "            y = getattr(self, f\"dec_layer_{i}\")(enc_out, y, training)\n",
    "        return y\n",
    "\n",
    "    def call(self, inputs, training):\n",
    "        source = inputs[0]\n",
    "        target = inputs[1]\n",
    "        x = self.encoder(source, training)\n",
    "        y = self.decode(x, target, training)\n",
    "        return self.classifier(y)\n",
    "\n",
    "    @property\n",
    "    def metrics(self):\n",
    "        return [self.loss_metric, self.acc_metric]\n",
    "\n",
    "    def train_step(self, batch):\n",
    "        source = batch[0]\n",
    "        target = batch[1]\n",
    "\n",
    "        input_shape = tf.shape(target)\n",
    "        batch_size = input_shape[0]\n",
    "\n",
    "        dec_input = target[:, :-1]\n",
    "        dec_target = target[:, 1:]\n",
    "        with tf.GradientTape() as tape:\n",
    "            preds = self([source, dec_input], training=True)\n",
    "            one_hot = tf.one_hot(dec_target, depth=self.num_classes)\n",
    "            mask = tf.math.logical_not(tf.math.equal(dec_target, pad_token_idx))\n",
    "            loss = self.compiled_loss(one_hot, preds, sample_weight=mask)\n",
    "        trainable_vars = self.trainable_variables\n",
    "        gradients = tape.gradient(loss, trainable_vars)\n",
    "        self.optimizer.apply_gradients(zip(gradients, trainable_vars))\n",
    "\n",
    "        self.loss_metric.update_state(loss)\n",
    "        self.acc_metric.update_state(dec_target, preds, sample_weight=mask)\n",
    "\n",
    "        return {\"loss\": self.loss_metric.result(), \"accuracy\": self.acc_metric.result()}\n",
    "\n",
    "    def test_step(self, batch):\n",
    "        source = batch[0]\n",
    "        target = batch[1]\n",
    "\n",
    "        input_shape = tf.shape(target)\n",
    "        batch_size = input_shape[0]\n",
    "\n",
    "        dec_input = target[:, :-1]\n",
    "        dec_target = target[:, 1:]\n",
    "        preds = self([source, dec_input], training=False)\n",
    "        one_hot = tf.one_hot(dec_target, depth=self.num_classes)\n",
    "        mask = tf.math.logical_not(tf.math.equal(dec_target, pad_token_idx))\n",
    "        loss = self.compiled_loss(one_hot, preds, sample_weight=mask)\n",
    "\n",
    "        self.loss_metric.update_state(loss)\n",
    "        self.acc_metric.update_state(dec_target, preds, sample_weight=mask)\n",
    "\n",
    "        return {\"loss\": self.loss_metric.result(), \"accuracy\": self.acc_metric.result()}\n",
    "\n",
    "    def generate(self, source, target_start_token_idx):\n",
    "        bs = tf.shape(source)[0]\n",
    "        enc = self.encoder(source, training=False)\n",
    "        dec_input = tf.ones((bs, 1), dtype=tf.int32) * target_start_token_idx\n",
    "        dec_logits = []\n",
    "        for i in range(self.target_maxlen - 1):\n",
    "            dec_out = self.decode(enc, dec_input, training=False)\n",
    "            logits = self.classifier(dec_out)\n",
    "            logits = tf.argmax(logits, axis=-1, output_type=tf.int32)\n",
    "            last_logit = logits[:, -1][..., tf.newaxis]\n",
    "            dec_logits.append(last_logit)\n",
    "            dec_input = tf.concat([dec_input, last_logit], axis=-1)\n",
    "        return dec_input\n"
   ]
  },
  {
   "cell_type": "markdown",
   "id": "0a4cd6d9",
   "metadata": {
    "papermill": {
     "duration": 0.019778,
     "end_time": "2023-11-26T08:09:23.640329",
     "exception": false,
     "start_time": "2023-11-26T08:09:23.620551",
     "status": "completed"
    },
    "tags": []
   },
   "source": [
    "Callback function to display prediction-ground truth and accuracy\n"
   ]
  },
  {
   "cell_type": "code",
   "execution_count": 24,
   "id": "d6d45c4f",
   "metadata": {
    "execution": {
     "iopub.execute_input": "2023-11-26T08:09:23.682378Z",
     "iopub.status.busy": "2023-11-26T08:09:23.681533Z",
     "iopub.status.idle": "2023-11-26T08:09:23.690966Z",
     "shell.execute_reply": "2023-11-26T08:09:23.690000Z"
    },
    "papermill": {
     "duration": 0.032512,
     "end_time": "2023-11-26T08:09:23.692896",
     "exception": false,
     "start_time": "2023-11-26T08:09:23.660384",
     "status": "completed"
    },
    "tags": []
   },
   "outputs": [],
   "source": [
    "class DisplayOutputs(keras.callbacks.Callback):\n",
    "    def __init__(\n",
    "        self, batch, idx_to_token, target_start_token_idx=60, target_end_token_idx=61\n",
    "    ):\n",
    "        self.batch = batch\n",
    "        self.target_start_token_idx = target_start_token_idx\n",
    "        self.target_end_token_idx = target_end_token_idx\n",
    "        self.idx_to_char = idx_to_token\n",
    "\n",
    "    def on_epoch_end(self, epoch, logs=None):\n",
    "        if epoch % 29 != 0:\n",
    "            return\n",
    "        source = self.batch[0]\n",
    "        target = self.batch[1].numpy()\n",
    "        bs = tf.shape(source)[0]\n",
    "        preds = self.model.generate(source, self.target_start_token_idx)\n",
    "        preds = preds.numpy()\n",
    "        \n",
    "        for i in range(bs):\n",
    "            target_text = \"\".join([self.idx_to_char[_] for _ in target[i, :]])\n",
    "            prediction = \"\"\n",
    "            for idx in preds[i, :]:\n",
    "                prediction += self.idx_to_char[idx]\n",
    "                if idx == self.target_end_token_idx:\n",
    "                    break\n",
    "            \n",
    "            accuracy = logs.get('accuracy')  # Access accuracy from the training logs\n",
    "            \n",
    "            print(f\"Epoch {epoch + 1}, Accuracy: {accuracy}\")\n",
    "            print(f\"Target:     {target_text.replace('-', '')}\")\n",
    "            print(f\"Prediction: {prediction}\\n\")\n"
   ]
  },
  {
   "cell_type": "markdown",
   "id": "39d3881a",
   "metadata": {
    "papermill": {
     "duration": 0.019818,
     "end_time": "2023-11-26T08:09:23.732928",
     "exception": false,
     "start_time": "2023-11-26T08:09:23.713110",
     "status": "completed"
    },
    "tags": []
   },
   "source": [
    "# Training of Transformer Model"
   ]
  },
  {
   "cell_type": "code",
   "execution_count": 25,
   "id": "b0690148",
   "metadata": {
    "execution": {
     "iopub.execute_input": "2023-11-26T08:09:23.774642Z",
     "iopub.status.busy": "2023-11-26T08:09:23.774315Z",
     "iopub.status.idle": "2023-11-26T08:12:26.921308Z",
     "shell.execute_reply": "2023-11-26T08:12:26.920213Z"
    },
    "papermill": {
     "duration": 183.170808,
     "end_time": "2023-11-26T08:12:26.923794",
     "exception": false,
     "start_time": "2023-11-26T08:09:23.752986",
     "status": "completed"
    },
    "tags": []
   },
   "outputs": [
    {
     "name": "stdout",
     "output_type": "stream",
     "text": [
      "Epoch 1/5\n",
      "632/632 [==============================] - 86s 103ms/step - loss: 0.8905 - accuracy: 0.2320 - val_loss: 0.8043 - val_accuracy: 0.3133\n",
      "Epoch 2/5\n",
      "632/632 [==============================] - 24s 38ms/step - loss: 0.7642 - accuracy: 0.3645 - val_loss: 0.7131 - val_accuracy: 0.4367\n",
      "Epoch 3/5\n",
      "632/632 [==============================] - 24s 38ms/step - loss: 0.6736 - accuracy: 0.4811 - val_loss: 0.6397 - val_accuracy: 0.5240\n",
      "Epoch 4/5\n",
      "632/632 [==============================] - 24s 38ms/step - loss: 0.6187 - accuracy: 0.5462 - val_loss: 0.6080 - val_accuracy: 0.5618\n",
      "Epoch 5/5\n",
      "632/632 [==============================] - 24s 38ms/step - loss: 0.5854 - accuracy: 0.5847 - val_loss: 0.5860 - val_accuracy: 0.5866\n"
     ]
    }
   ],
   "source": [
    "from tensorflow.keras.callbacks import EarlyStopping\n",
    "\n",
    "batch = next(iter(valid_ds))\n",
    "idx_to_char = list(char_to_num.keys())\n",
    "display_cb = DisplayOutputs(batch, idx_to_char, target_start_token_idx=char_to_num['<'], target_end_token_idx=char_to_num['>'])\n",
    "\n",
    "model = Transformer(\n",
    "    num_hid=200,\n",
    "    num_head=4,\n",
    "    num_feed_forward=400,\n",
    "    source_maxlen=FRAME_LEN,\n",
    "    target_maxlen=64,\n",
    "    num_layers_enc=2,\n",
    "    num_layers_dec=1,\n",
    "    num_classes=62\n",
    ")\n",
    "\n",
    "loss_fn = tf.keras.losses.CategoricalCrossentropy(from_logits=True, label_smoothing=0.1)\n",
    "\n",
    "# Define EarlyStopping callback\n",
    "early_stopping = EarlyStopping(monitor='val_loss', patience=5, restore_best_weights=True)\n",
    "\n",
    "optimizer = keras.optimizers.Adam(0.0001)\n",
    "model.compile(optimizer=optimizer, loss=loss_fn, metrics=['accuracy'])\n",
    "\n",
    "# Include EarlyStopping callback in the training process\n",
    "history = model.fit(train_ds, validation_data=valid_ds, callbacks=[early_stopping], epochs=5)\n"
   ]
  },
  {
   "cell_type": "markdown",
   "id": "58497ab0",
   "metadata": {
    "papermill": {
     "duration": 0.167534,
     "end_time": "2023-11-26T08:12:27.257087",
     "exception": false,
     "start_time": "2023-11-26T08:12:27.089553",
     "status": "completed"
    },
    "tags": []
   },
   "source": [
    "We have Implemented early stopping during training to stop training when the validation performance stops improving. This helps prevent overfitting and saves training time."
   ]
  },
  {
   "cell_type": "code",
   "execution_count": 26,
   "id": "a4ed6ab7",
   "metadata": {
    "execution": {
     "iopub.execute_input": "2023-11-26T08:12:27.589371Z",
     "iopub.status.busy": "2023-11-26T08:12:27.588464Z",
     "iopub.status.idle": "2023-11-26T08:12:29.946303Z",
     "shell.execute_reply": "2023-11-26T08:12:29.945526Z"
    },
    "papermill": {
     "duration": 2.527027,
     "end_time": "2023-11-26T08:12:29.948584",
     "exception": false,
     "start_time": "2023-11-26T08:12:27.421557",
     "status": "completed"
    },
    "tags": []
   },
   "outputs": [
    {
     "name": "stdout",
     "output_type": "stream",
     "text": [
      "164/164 [==============================] - 2s 14ms/step - loss: 0.5860 - accuracy: 0.5866\n",
      "Validation Loss: 0.5860\n",
      "Validation Accuracy: 58.66%\n"
     ]
    }
   ],
   "source": [
    "val_loss, val_accuracy = model.evaluate(valid_ds)\n",
    "\n",
    "print(f\"Validation Loss: {val_loss:.4f}\")\n",
    "print(f\"Validation Accuracy: {val_accuracy * 100:.2f}%\")"
   ]
  },
  {
   "cell_type": "code",
   "execution_count": 27,
   "id": "cbf5f368",
   "metadata": {
    "execution": {
     "iopub.execute_input": "2023-11-26T08:12:30.295487Z",
     "iopub.status.busy": "2023-11-26T08:12:30.294833Z",
     "iopub.status.idle": "2023-11-26T08:12:30.649609Z",
     "shell.execute_reply": "2023-11-26T08:12:30.648548Z"
    },
    "papermill": {
     "duration": 0.530825,
     "end_time": "2023-11-26T08:12:30.651594",
     "exception": false,
     "start_time": "2023-11-26T08:12:30.120769",
     "status": "completed"
    },
    "tags": []
   },
   "outputs": [
    {
     "data": {
      "image/png": "[encoded data removed]",
      "text/plain": [
       "<Figure size 640x480 with 1 Axes>"
      ]
     },
     "metadata": {},
     "output_type": "display_data"
    }
   ],
   "source": [
    "import matplotlib.pyplot as plt\n",
    "\n",
    "plt.plot(history.history['accuracy'], label='Training Accuracy')\n",
    "plt.plot(history.history['val_accuracy'], label='Validation Accuracy')\n",
    "plt.xlabel('Epoch')\n",
    "plt.ylabel('Accuracy')\n",
    "plt.savefig('training_validation_accuracy_plot.png')\n",
    "plt.legend()\n",
    "plt.show()"
   ]
  },
  {
   "cell_type": "code",
   "execution_count": 28,
   "id": "2d3f7937",
   "metadata": {
    "execution": {
     "iopub.execute_input": "2023-11-26T08:12:31.045052Z",
     "iopub.status.busy": "2023-11-26T08:12:31.044681Z",
     "iopub.status.idle": "2023-11-26T08:12:31.456208Z",
     "shell.execute_reply": "2023-11-26T08:12:31.455198Z"
    },
    "papermill": {
     "duration": 0.631119,
     "end_time": "2023-11-26T08:12:31.458497",
     "exception": false,
     "start_time": "2023-11-26T08:12:30.827378",
     "status": "completed"
    },
    "tags": []
   },
   "outputs": [
    {
     "data": {
      "image/png": "[encoded data removed]",
      "text/plain": [
       "<Figure size 640x480 with 1 Axes>"
      ]
     },
     "metadata": {},
     "output_type": "display_data"
    }
   ],
   "source": [
    "# Plot training loss\n",
    "plt.plot(history.history['loss'], label='Training Loss')\n",
    "# Plot validation loss\n",
    "plt.plot(history.history['val_loss'], label='Validation Loss')\n",
    "\n",
    "# Customize the plot\n",
    "plt.title('Training and Validation Loss')\n",
    "plt.xlabel('Epoch')\n",
    "plt.ylabel('Loss')\n",
    "plt.legend()\n",
    "plt.savefig('training_validation_loss_plot.png')\n",
    "plt.show()"
   ]
  },
  {
   "cell_type": "markdown",
   "id": "b3c3f3cf",
   "metadata": {
    "papermill": {
     "duration": 0.170445,
     "end_time": "2023-11-26T08:12:31.799701",
     "exception": false,
     "start_time": "2023-11-26T08:12:31.629256",
     "status": "completed"
    },
    "tags": []
   },
   "source": [
    "From the provided plots, it's evident that the model's performance, as measured by validation accuracy and validation loss, remains relatively stable over the training epochs. This indicates a potential issue with the model's ability to generalize beyond the training data, suggesting the need for further exploration into hyperparameter tuning, regularization techniques, or potential data-related challenges to improve overall model performance on unseen data."
   ]
  },
  {
   "cell_type": "markdown",
   "id": "973c4184",
   "metadata": {
    "papermill": {
     "duration": 0.168453,
     "end_time": "2023-11-26T08:12:32.140298",
     "exception": false,
     "start_time": "2023-11-26T08:12:31.971845",
     "status": "completed"
    },
    "tags": []
   },
   "source": [
    "# Hyperparameter tuning"
   ]
  },
  {
   "cell_type": "code",
   "execution_count": 29,
   "id": "149b318e",
   "metadata": {
    "execution": {
     "iopub.execute_input": "2023-11-26T08:12:32.537136Z",
     "iopub.status.busy": "2023-11-26T08:12:32.536448Z",
     "iopub.status.idle": "2023-11-26T08:23:25.655076Z",
     "shell.execute_reply": "2023-11-26T08:23:25.654136Z"
    },
    "papermill": {
     "duration": 653.345665,
     "end_time": "2023-11-26T08:23:25.657504",
     "exception": false,
     "start_time": "2023-11-26T08:12:32.311839",
     "status": "completed"
    },
    "tags": []
   },
   "outputs": [
    {
     "name": "stdout",
     "output_type": "stream",
     "text": [
      "Trial 5 Complete [00h 01m 46s]\n",
      "val_accuracy: 0.502015233039856\n",
      "\n",
      "Best val_accuracy So Far: 0.5504010319709778\n",
      "Total elapsed time: 00h 08m 49s\n",
      "Best Hyperparameters: {'num_hid': 250, 'num_head': 3, 'num_feed_forward': 600, 'num_layers_enc': 2, 'num_layers_dec': 3, 'learning_rate': 0.0001}\n",
      "Epoch 1/2\n",
      "632/632 [==============================] - 75s 81ms/step - loss: 0.8434 - accuracy: 0.2739 - val_loss: 0.7501 - val_accuracy: 0.3818\n",
      "Epoch 2/2\n",
      "632/632 [==============================] - 49s 77ms/step - loss: 0.6866 - accuracy: 0.4581 - val_loss: 0.6178 - val_accuracy: 0.5470\n"
     ]
    }
   ],
   "source": [
    "import tensorflow as tf\n",
    "from tensorflow import keras\n",
    "from tensorflow.keras.callbacks import EarlyStopping\n",
    "from kerastuner.tuners import RandomSearch\n",
    "# Define the model-building function\n",
    "def build_model(hp):\n",
    "    model = Transformer(\n",
    "        num_hid=hp.Int('num_hid', min_value=100, max_value=400, step=50),\n",
    "        num_head=hp.Int('num_head', min_value=2, max_value=8, step=1),\n",
    "        num_feed_forward=hp.Int('num_feed_forward', min_value=200, max_value=800, step=100),\n",
    "        source_maxlen=FRAME_LEN,  # Assuming FRAME_LEN is defined\n",
    "        target_maxlen=64,\n",
    "        num_layers_enc=hp.Int('num_layers_enc', min_value=1, max_value=3, step=1),\n",
    "        num_layers_dec=hp.Int('num_layers_dec', min_value=1, max_value=3, step=1),\n",
    "        num_classes=62\n",
    "    )\n",
    "\n",
    "    loss_fn = tf.keras.losses.CategoricalCrossentropy(from_logits=True, label_smoothing=0.1)\n",
    "\n",
    "    optimizer = keras.optimizers.Adam(hp.Choice('learning_rate', values=[1e-2, 1e-3, 1e-4]))\n",
    "\n",
    "    model.compile(optimizer=optimizer, loss=loss_fn, metrics=['accuracy'])\n",
    "    return model\n",
    "\n",
    "# Instantiate the RandomSearch tuner with 'val_accuracy' as the objective\n",
    "tuner = RandomSearch(\n",
    "    build_model,\n",
    "    objective='val_accuracy',\n",
    "    max_trials=5,\n",
    "    directory='my_tuning_directory',\n",
    "    project_name='my_transformer_tuning',\n",
    ")\n",
    "\n",
    "# Perform the hyperparameter search\n",
    "tuner.search(train_ds, validation_data=valid_ds, epochs=2)\n",
    "\n",
    "# Get the best hyperparameters\n",
    "best_hps = tuner.get_best_hyperparameters(num_trials=1)[0]\n",
    "print(f\"Best Hyperparameters: {best_hps.values}\")\n",
    "\n",
    "# Build the final model with the best hyperparameters\n",
    "final_model = tuner.hypermodel.build(best_hps)\n",
    "\n",
    "# Define EarlyStopping callback\n",
    "early_stopping = EarlyStopping(monitor='val_loss', patience=5, restore_best_weights=True)\n",
    "\n",
    "# Compile the final model\n",
    "final_model.compile(optimizer=final_model.optimizer, loss=loss_fn, metrics=['accuracy'])\n",
    "\n",
    "# Include EarlyStopping callback in the training process\n",
    "history = final_model.fit(train_ds, validation_data=valid_ds, callbacks=[early_stopping], epochs=2)"
   ]
  },
  {
   "cell_type": "code",
   "execution_count": 30,
   "id": "1e2aabbb",
   "metadata": {
    "execution": {
     "iopub.execute_input": "2023-11-26T08:23:26.323481Z",
     "iopub.status.busy": "2023-11-26T08:23:26.323089Z",
     "iopub.status.idle": "2023-11-26T08:23:26.329877Z",
     "shell.execute_reply": "2023-11-26T08:23:26.328895Z"
    },
    "papermill": {
     "duration": 0.36618,
     "end_time": "2023-11-26T08:23:26.331866",
     "exception": false,
     "start_time": "2023-11-26T08:23:25.965686",
     "status": "completed"
    },
    "tags": []
   },
   "outputs": [
    {
     "data": {
      "text/plain": [
       "{'num_hid': 250,\n",
       " 'num_head': 3,\n",
       " 'num_feed_forward': 600,\n",
       " 'num_layers_enc': 2,\n",
       " 'num_layers_dec': 3,\n",
       " 'learning_rate': 0.0001}"
      ]
     },
     "execution_count": 30,
     "metadata": {},
     "output_type": "execute_result"
    }
   ],
   "source": [
    "best_hps.values"
   ]
  },
  {
   "cell_type": "code",
   "execution_count": 31,
   "id": "e74de93d",
   "metadata": {
    "execution": {
     "iopub.execute_input": "2023-11-26T08:23:26.910348Z",
     "iopub.status.busy": "2023-11-26T08:23:26.909460Z",
     "iopub.status.idle": "2023-11-26T08:23:28.707771Z",
     "shell.execute_reply": "2023-11-26T08:23:28.706831Z"
    },
    "papermill": {
     "duration": 2.072655,
     "end_time": "2023-11-26T08:23:28.710146",
     "exception": false,
     "start_time": "2023-11-26T08:23:26.637491",
     "status": "completed"
    },
    "tags": []
   },
   "outputs": [
    {
     "data": {
      "image/png": "[encoded data removed]",
      "text/plain": [
       "<Figure size 1000x600 with 4 Axes>"
      ]
     },
     "metadata": {},
     "output_type": "display_data"
    }
   ],
   "source": [
    "import matplotlib.pyplot as plt\n",
    "\n",
    "# Get the best trials\n",
    "best_trials = tuner.oracle.get_best_trials(num_trials=5)\n",
    "\n",
    "# Extract relevant information\n",
    "val_acc = [trial.metrics.get_last_value('val_accuracy') for trial in best_trials]\n",
    "learning_rates = [trial.hyperparameters.get('learning_rate') for trial in best_trials]\n",
    "num_heads = [trial.hyperparameters.get('num_head') for trial in best_trials]\n",
    "num_layers_enc = [trial.hyperparameters.get('num_layers_enc') for trial in best_trials]\n",
    "num_layers_dec = [trial.hyperparameters.get('num_layers_dec') for trial in best_trials]\n",
    "\n",
    "# Plot hyperparameter vs. validation accuracy\n",
    "plt.figure(figsize=(10, 6))\n",
    "\n",
    "# Plot and save Learning Rate vs. Validation Accuracy\n",
    "plt.subplot(2, 2, 1)\n",
    "plt.scatter(learning_rates, val_acc)\n",
    "plt.title('Learning Rate vs. Validation Accuracy')\n",
    "plt.xlabel('Learning Rate')\n",
    "plt.ylabel('Validation Accuracy')\n",
    "plt.savefig('learning_rate_vs_validation_accuracy.png')\n",
    "\n",
    "# Plot and save Number of Heads vs. Validation Accuracy\n",
    "plt.subplot(2, 2, 2)\n",
    "plt.scatter(num_heads, val_acc)\n",
    "plt.title('Number of Heads vs. Validation Accuracy')\n",
    "plt.xlabel('Number of Heads')\n",
    "plt.ylabel('Validation Accuracy')\n",
    "plt.savefig('number_of_heads_vs_validation_accuracy.png')\n",
    "\n",
    "# Plot and save Number of Encoder Layers vs. Validation Accuracy\n",
    "plt.subplot(2, 2, 3)\n",
    "plt.scatter(num_layers_enc, val_acc)\n",
    "plt.title('Number of Encoder Layers vs. Validation Accuracy')\n",
    "plt.xlabel('Number of Encoder Layers')\n",
    "plt.ylabel('Validation Accuracy')\n",
    "plt.savefig('number_of_encoder_layers_vs_validation_accuracy.png')\n",
    "\n",
    "# Plot and save Number of Decoder Layers vs. Validation Accuracy\n",
    "plt.subplot(2, 2, 4)\n",
    "plt.scatter(num_layers_dec, val_acc)\n",
    "plt.title('Number of Decoder Layers vs. Validation Accuracy')\n",
    "plt.xlabel('Number of Decoder Layers')\n",
    "plt.ylabel('Validation Accuracy')\n",
    "plt.savefig('number_of_decoder_layers_vs_validation_accuracy.png')\n",
    "\n",
    "plt.tight_layout()\n",
    "plt.show()\n"
   ]
  },
  {
   "cell_type": "code",
   "execution_count": 32,
   "id": "a78e7c45",
   "metadata": {
    "execution": {
     "iopub.execute_input": "2023-11-26T08:23:29.255038Z",
     "iopub.status.busy": "2023-11-26T08:23:29.254068Z",
     "iopub.status.idle": "2023-11-26T08:23:29.910251Z",
     "shell.execute_reply": "2023-11-26T08:23:29.909285Z"
    },
    "papermill": {
     "duration": 0.932641,
     "end_time": "2023-11-26T08:23:29.913131",
     "exception": false,
     "start_time": "2023-11-26T08:23:28.980490",
     "status": "completed"
    },
    "tags": []
   },
   "outputs": [
    {
     "data": {
      "image/png": "[encoded data removed]",
      "text/plain": [
       "<Figure size 1500x800 with 1 Axes>"
      ]
     },
     "metadata": {},
     "output_type": "display_data"
    }
   ],
   "source": [
    "import matplotlib.pyplot as plt\n",
    "\n",
    "# Retrieve the best trials\n",
    "best_trials = tuner.oracle.get_best_trials(num_trials=5)\n",
    "\n",
    "# Extract relevant information\n",
    "val_acc = [trial.metrics.get_last_value('val_accuracy') for trial in best_trials]\n",
    "learning_rates = [trial.hyperparameters.get('learning_rate') for trial in best_trials]\n",
    "num_heads = [trial.hyperparameters.get('num_head') for trial in best_trials]\n",
    "num_layers_enc = [trial.hyperparameters.get('num_layers_enc') for trial in best_trials]\n",
    "num_layers_dec = [trial.hyperparameters.get('num_layers_dec') for trial in best_trials]\n",
    "\n",
    "# Plot hyperparameters vs. validation accuracy in a single plot\n",
    "plt.figure(figsize=(15, 8))\n",
    "\n",
    "plt.scatter(learning_rates, val_acc, label='Learning Rate', alpha=0.7)\n",
    "plt.scatter(num_heads, val_acc, label='Number of Heads', alpha=0.7)\n",
    "plt.scatter(num_layers_enc, val_acc, label='Number of Encoder Layers', alpha=0.7)\n",
    "plt.scatter(num_layers_dec, val_acc, label='Number of Decoder Layers', alpha=0.7)\n",
    "\n",
    "# Add labels and title\n",
    "plt.title('Hyperparameters vs. Validation Accuracy')\n",
    "plt.xlabel('Hyperparameter Values')\n",
    "plt.ylabel('Validation Accuracy')\n",
    "plt.legend()\n",
    "\n",
    "# Save the figure\n",
    "plt.savefig('hyperparameter_vs_validation_accuracy.png')\n",
    "plt.show()\n",
    "\n"
   ]
  },
  {
   "cell_type": "code",
   "execution_count": 33,
   "id": "d94a52fb",
   "metadata": {
    "execution": {
     "iopub.execute_input": "2023-11-26T08:23:30.466612Z",
     "iopub.status.busy": "2023-11-26T08:23:30.466248Z",
     "iopub.status.idle": "2023-11-26T08:23:31.065654Z",
     "shell.execute_reply": "2023-11-26T08:23:31.064713Z"
    },
    "papermill": {
     "duration": 0.876545,
     "end_time": "2023-11-26T08:23:31.067631",
     "exception": false,
     "start_time": "2023-11-26T08:23:30.191086",
     "status": "completed"
    },
    "tags": []
   },
   "outputs": [
    {
     "data": {
      "image/png": "[encoded data removed]",
      "text/plain": [
       "<Figure size 1500x800 with 1 Axes>"
      ]
     },
     "metadata": {},
     "output_type": "display_data"
    }
   ],
   "source": [
    "import matplotlib.pyplot as plt\n",
    "\n",
    "# Retrieve the best trials\n",
    "best_trials = tuner.oracle.get_best_trials(num_trials=5)\n",
    "\n",
    "# Extract relevant information\n",
    "val_acc = [trial.metrics.get_last_value('val_accuracy') for trial in best_trials]\n",
    "learning_rates = [trial.hyperparameters.get('learning_rate') for trial in best_trials]\n",
    "num_heads = [trial.hyperparameters.get('num_head') for trial in best_trials]\n",
    "num_layers_enc = [trial.hyperparameters.get('num_layers_enc') for trial in best_trials]\n",
    "num_layers_dec = [trial.hyperparameters.get('num_layers_dec') for trial in best_trials]\n",
    "\n",
    "# Find the index of the best trial\n",
    "best_trial_index = val_acc.index(max(val_acc))\n",
    "\n",
    "# Plot hyperparameters vs. validation accuracy in a single plot\n",
    "plt.figure(figsize=(15, 8))\n",
    "\n",
    "# Scatter plot for Learning Rate\n",
    "plt.scatter(learning_rates, val_acc, label='Learning Rate', alpha=0.7)\n",
    "# Highlight the best point\n",
    "plt.scatter(learning_rates[best_trial_index], val_acc[best_trial_index], color='red', marker='*', s=200, label='Best')\n",
    "\n",
    "# Scatter plot for Number of Heads\n",
    "plt.scatter(num_heads, val_acc, label='Number of Heads', alpha=0.7)\n",
    "# Highlight the best point\n",
    "plt.scatter(num_heads[best_trial_index], val_acc[best_trial_index], color='red', marker='*', s=200)\n",
    "\n",
    "# Scatter plot for Number of Encoder Layers\n",
    "plt.scatter(num_layers_enc, val_acc, label='Number of Encoder Layers', alpha=0.7)\n",
    "# Highlight the best point\n",
    "plt.scatter(num_layers_enc[best_trial_index], val_acc[best_trial_index], color='red', marker='*', s=200)\n",
    "\n",
    "# Scatter plot for Number of Decoder Layers\n",
    "plt.scatter(num_layers_dec, val_acc, label='Number of Decoder Layers', alpha=0.7)\n",
    "# Highlight the best point\n",
    "plt.scatter(num_layers_dec[best_trial_index], val_acc[best_trial_index], color='red', marker='*', s=200)\n",
    "\n",
    "# Add labels and title\n",
    "plt.title('Hyperparameters vs. Validation Accuracy')\n",
    "plt.xlabel('Hyperparameter Values')\n",
    "plt.ylabel('Validation Accuracy')\n",
    "plt.legend()\n",
    "\n",
    "# Save the figure\n",
    "plt.savefig('hyperparameter_vs_validation_accuracy.png')\n",
    "plt.show()\n"
   ]
  },
  {
   "cell_type": "code",
   "execution_count": null,
   "id": "f9a4af38",
   "metadata": {
    "papermill": {
     "duration": 0.276315,
     "end_time": "2023-11-26T08:23:31.618182",
     "exception": false,
     "start_time": "2023-11-26T08:23:31.341867",
     "status": "completed"
    },
    "tags": []
   },
   "outputs": [],
   "source": []
  }
 ],
 "metadata": {
  "kaggle": {
   "accelerator": "gpu",
   "dataSources": [
    {
     "databundleVersionId": 5973250,
     "sourceId": 52950,
     "sourceType": "competition"
    },
    {
     "datasetId": 4052048,
     "sourceId": 7042486,
     "sourceType": "datasetVersion"
    }
   ],
   "dockerImageVersionId": 30587,
   "isGpuEnabled": true,
   "isInternetEnabled": true,
   "language": "python",
   "sourceType": "notebook"
  },
  "kernelspec": {
   "display_name": "Python 3",
   "language": "python",
   "name": "python3"
  },
  "language_info": {
   "codemirror_mode": {
    "name": "ipython",
    "version": 3
   },
   "file_extension": ".py",
   "mimetype": "text/x-python",
   "name": "python",
   "nbconvert_exporter": "python",
   "pygments_lexer": "ipython3",
   "version": "3.10.12"
  },
  "papermill": {
   "default_parameters": {},
   "duration": 1468.158946,
   "end_time": "2023-11-26T08:23:36.509112",
   "environment_variables": {},
   "exception": null,
   "input_path": "__notebook__.ipynb",
   "output_path": "__notebook__.ipynb",
   "parameters": {},
   "start_time": "2023-11-26T07:59:08.350166",
   "version": "2.4.0"
  },
  "widgets": {
   "application/vnd.jupyter.widget-state+json": {
    "state": {
     "148138b29ec14501a195e5e315066f24": {
      "model_module": "@jupyter-widgets/controls",
      "model_module_version": "1.5.0",
      "model_name": "DescriptionStyleModel",
      "state": {
       "_model_module": "@jupyter-widgets/controls",
       "_model_module_version": "1.5.0",
       "_model_name": "DescriptionStyleModel",
       "_view_count": null,
       "_view_module": "@jupyter-widgets/base",
       "_view_module_version": "1.2.0",
       "_view_name": "StyleView",
       "description_width": ""
      }
     },
     "2eb4cb5423d249529b95d0755d4a40e0": {
      "model_module": "@jupyter-widgets/controls",
      "model_module_version": "1.5.0",
      "model_name": "DescriptionStyleModel",
      "state": {
       "_model_module": "@jupyter-widgets/controls",
       "_model_module_version": "1.5.0",
       "_model_name": "DescriptionStyleModel",
       "_view_count": null,
       "_view_module": "@jupyter-widgets/base",
       "_view_module_version": "1.2.0",
       "_view_name": "StyleView",
       "description_width": ""
      }
     },
     "5adbd42e51104b599363a456ff3722e9": {
      "model_module": "@jupyter-widgets/base",
      "model_module_version": "1.2.0",
      "model_name": "LayoutModel",
      "state": {
       "_model_module": "@jupyter-widgets/base",
       "_model_module_version": "1.2.0",
       "_model_name": "LayoutModel",
       "_view_count": null,
       "_view_module": "@jupyter-widgets/base",
       "_view_module_version": "1.2.0",
       "_view_name": "LayoutView",
       "align_content": null,
       "align_items": null,
       "align_self": null,
       "border": null,
       "bottom": null,
       "display": null,
       "flex": null,
       "flex_flow": null,
       "grid_area": null,
       "grid_auto_columns": null,
       "grid_auto_flow": null,
       "grid_auto_rows": null,
       "grid_column": null,
       "grid_gap": null,
       "grid_row": null,
       "grid_template_areas": null,
       "grid_template_columns": null,
       "grid_template_rows": null,
       "height": null,
       "justify_content": null,
       "justify_items": null,
       "left": null,
       "margin": null,
       "max_height": null,
       "max_width": null,
       "min_height": null,
       "min_width": null,
       "object_fit": null,
       "object_position": null,
       "order": null,
       "overflow": null,
       "overflow_x": null,
       "overflow_y": null,
       "padding": null,
       "right": null,
       "top": null,
       "visibility": null,
       "width": null
      }
     },
     "6a7ce9a293f8487ab436daa359d3b7ec": {
      "model_module": "@jupyter-widgets/controls",
      "model_module_version": "1.5.0",
      "model_name": "HTMLModel",
      "state": {
       "_dom_classes": [],
       "_model_module": "@jupyter-widgets/controls",
       "_model_module_version": "1.5.0",
       "_model_name": "HTMLModel",
       "_view_count": null,
       "_view_module": "@jupyter-widgets/controls",
       "_view_module_version": "1.5.0",
       "_view_name": "HTMLView",
       "description": "",
       "description_tooltip": null,
       "layout": "IPY_MODEL_fac99017dc434165bf389933daedd0d7",
       "placeholder": "​",
       "style": "IPY_MODEL_148138b29ec14501a195e5e315066f24",
       "value": " 68/68 [09:32&lt;00:00,  8.33s/it]"
      }
     },
     "6d5d816c526949bf931d21113ee55363": {
      "model_module": "@jupyter-widgets/controls",
      "model_module_version": "1.5.0",
      "model_name": "HBoxModel",
      "state": {
       "_dom_classes": [],
       "_model_module": "@jupyter-widgets/controls",
       "_model_module_version": "1.5.0",
       "_model_name": "HBoxModel",
       "_view_count": null,
       "_view_module": "@jupyter-widgets/controls",
       "_view_module_version": "1.5.0",
       "_view_name": "HBoxView",
       "box_style": "",
       "children": [
        "IPY_MODEL_bbb9631630d246d8adeb32dc0f88b81c",
        "IPY_MODEL_e07c432b47804c1fb32d30e5f211f945",
        "IPY_MODEL_6a7ce9a293f8487ab436daa359d3b7ec"
       ],
       "layout": "IPY_MODEL_e105072025d54306ac13c4d49b5438d3"
      }
     },
     "82a4557e835a4afe9903319e217b9bb5": {
      "model_module": "@jupyter-widgets/controls",
      "model_module_version": "1.5.0",
      "model_name": "ProgressStyleModel",
      "state": {
       "_model_module": "@jupyter-widgets/controls",
       "_model_module_version": "1.5.0",
       "_model_name": "ProgressStyleModel",
       "_view_count": null,
       "_view_module": "@jupyter-widgets/base",
       "_view_module_version": "1.2.0",
       "_view_name": "StyleView",
       "bar_color": null,
       "description_width": ""
      }
     },
     "a36dbf7bf41b43589f8404da84cab364": {
      "model_module": "@jupyter-widgets/base",
      "model_module_version": "1.2.0",
      "model_name": "LayoutModel",
      "state": {
       "_model_module": "@jupyter-widgets/base",
       "_model_module_version": "1.2.0",
       "_model_name": "LayoutModel",
       "_view_count": null,
       "_view_module": "@jupyter-widgets/base",
       "_view_module_version": "1.2.0",
       "_view_name": "LayoutView",
       "align_content": null,
       "align_items": null,
       "align_self": null,
       "border": null,
       "bottom": null,
       "display": null,
       "flex": null,
       "flex_flow": null,
       "grid_area": null,
       "grid_auto_columns": null,
       "grid_auto_flow": null,
       "grid_auto_rows": null,
       "grid_column": null,
       "grid_gap": null,
       "grid_row": null,
       "grid_template_areas": null,
       "grid_template_columns": null,
       "grid_template_rows": null,
       "height": null,
       "justify_content": null,
       "justify_items": null,
       "left": null,
       "margin": null,
       "max_height": null,
       "max_width": null,
       "min_height": null,
       "min_width": null,
       "object_fit": null,
       "object_position": null,
       "order": null,
       "overflow": null,
       "overflow_x": null,
       "overflow_y": null,
       "padding": null,
       "right": null,
       "top": null,
       "visibility": null,
       "width": null
      }
     },
     "bbb9631630d246d8adeb32dc0f88b81c": {
      "model_module": "@jupyter-widgets/controls",
      "model_module_version": "1.5.0",
      "model_name": "HTMLModel",
      "state": {
       "_dom_classes": [],
       "_model_module": "@jupyter-widgets/controls",
       "_model_module_version": "1.5.0",
       "_model_name": "HTMLModel",
       "_view_count": null,
       "_view_module": "@jupyter-widgets/controls",
       "_view_module_version": "1.5.0",
       "_view_name": "HTMLView",
       "description": "",
       "description_tooltip": null,
       "layout": "IPY_MODEL_a36dbf7bf41b43589f8404da84cab364",
       "placeholder": "​",
       "style": "IPY_MODEL_2eb4cb5423d249529b95d0755d4a40e0",
       "value": "100%"
      }
     },
     "e07c432b47804c1fb32d30e5f211f945": {
      "model_module": "@jupyter-widgets/controls",
      "model_module_version": "1.5.0",
      "model_name": "FloatProgressModel",
      "state": {
       "_dom_classes": [],
       "_model_module": "@jupyter-widgets/controls",
       "_model_module_version": "1.5.0",
       "_model_name": "FloatProgressModel",
       "_view_count": null,
       "_view_module": "@jupyter-widgets/controls",
       "_view_module_version": "1.5.0",
       "_view_name": "ProgressView",
       "bar_style": "success",
       "description": "",
       "description_tooltip": null,
       "layout": "IPY_MODEL_5adbd42e51104b599363a456ff3722e9",
       "max": 68.0,
       "min": 0.0,
       "orientation": "horizontal",
       "style": "IPY_MODEL_82a4557e835a4afe9903319e217b9bb5",
       "value": 68.0
      }
     },
     "e105072025d54306ac13c4d49b5438d3": {
      "model_module": "@jupyter-widgets/base",
      "model_module_version": "1.2.0",
      "model_name": "LayoutModel",
      "state": {
       "_model_module": "@jupyter-widgets/base",
       "_model_module_version": "1.2.0",
       "_model_name": "LayoutModel",
       "_view_count": null,
       "_view_module": "@jupyter-widgets/base",
       "_view_module_version": "1.2.0",
       "_view_name": "LayoutView",
       "align_content": null,
       "align_items": null,
       "align_self": null,
       "border": null,
       "bottom": null,
       "display": null,
       "flex": null,
       "flex_flow": null,
       "grid_area": null,
       "grid_auto_columns": null,
       "grid_auto_flow": null,
       "grid_auto_rows": null,
       "grid_column": null,
       "grid_gap": null,
       "grid_row": null,
       "grid_template_areas": null,
       "grid_template_columns": null,
       "grid_template_rows": null,
       "height": null,
       "justify_content": null,
       "justify_items": null,
       "left": null,
       "margin": null,
       "max_height": null,
       "max_width": null,
       "min_height": null,
       "min_width": null,
       "object_fit": null,
       "object_position": null,
       "order": null,
       "overflow": null,
       "overflow_x": null,
       "overflow_y": null,
       "padding": null,
       "right": null,
       "top": null,
       "visibility": null,
       "width": null
      }
     },
     "fac99017dc434165bf389933daedd0d7": {
      "model_module": "@jupyter-widgets/base",
      "model_module_version": "1.2.0",
      "model_name": "LayoutModel",
      "state": {
       "_model_module": "@jupyter-widgets/base",
       "_model_module_version": "1.2.0",
       "_model_name": "LayoutModel",
       "_view_count": null,
       "_view_module": "@jupyter-widgets/base",
       "_view_module_version": "1.2.0",
       "_view_name": "LayoutView",
       "align_content": null,
       "align_items": null,
       "align_self": null,
       "border": null,
       "bottom": null,
       "display": null,
       "flex": null,
       "flex_flow": null,
       "grid_area": null,
       "grid_auto_columns": null,
       "grid_auto_flow": null,
       "grid_auto_rows": null,
       "grid_column": null,
       "grid_gap": null,
       "grid_row": null,
       "grid_template_areas": null,
       "grid_template_columns": null,
       "grid_template_rows": null,
       "height": null,
       "justify_content": null,
       "justify_items": null,
       "left": null,
       "margin": null,
       "max_height": null,
       "max_width": null,
       "min_height": null,
       "min_width": null,
       "object_fit": null,
       "object_position": null,
       "order": null,
       "overflow": null,
       "overflow_x": null,
       "overflow_y": null,
       "padding": null,
       "right": null,
       "top": null,
       "visibility": null,
       "width": null
      }
     }
    },
    "version_major": 2,
    "version_minor": 0
   }
  }
 },
 "nbformat": 4,
 "nbformat_minor": 5
}
