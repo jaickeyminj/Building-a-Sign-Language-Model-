{
 "cells": [
  {
   "cell_type": "code",
   "execution_count": 2,
   "id": "f59fea9c-4bf5-47d7-a8d0-b56284d84e0b",
   "metadata": {},
   "outputs": [],
   "source": [
    "import cv2 #openCV\n",
    "import time\n",
    "import uuid #name image files\n",
    "import os"
   ]
  },
  {
   "cell_type": "code",
   "execution_count": 3,
   "id": "a317ed36-4024-4678-a335-705ba01f8986",
   "metadata": {},
   "outputs": [],
   "source": [
    "IMAGES_PATH ='Tensorflow/workspace/images/collectedimages'\n",
    "#We will collect 5 label for 5 diff signs (Hello,YES,NO,Thanks you, I love you)"
   ]
  },
  {
   "cell_type": "code",
   "execution_count": 5,
   "id": "8cad5ec0-51ee-4755-a785-edd602d22efe",
   "metadata": {},
   "outputs": [],
   "source": [
    "labels = ['hello','thanks','yes','no','iloveyou']\n",
    "number_images = 15 #Collect 15 Images from camera"
   ]
  },
  {
   "cell_type": "code",
   "execution_count": 8,
   "id": "1f87b8d6-68f6-4288-8628-38966bf80917",
   "metadata": {},
   "outputs": [
    {
     "name": "stdout",
     "output_type": "stream",
     "text": [
      "Collecting images for hello\n",
      "Collecting images for thanks\n",
      "Collecting images for yes\n",
      "Collecting images for no\n",
      "Collecting images for iloveyou\n"
     ]
    }
   ],
   "source": [
    "for label in labels:\n",
    "    !mkdir {'Tensorflow\\workspace\\images\\collectedimages\\\\'+label}\n",
    "    cap = cv2.VideoCapture(0)\n",
    "    print('Collecting images for {}'.format(label))\n",
    "    time.sleep(5)\n",
    "\n",
    "    for img_num in range(number_images):\n",
    "        ret,frame = cap.read()\n",
    "        imagename = os.path.join(IMAGES_PATH,label,label+'.'+'{}.jpg'.format(str(uuid.uuid1())))\n",
    "        cv2.imwrite(imagename,frame)\n",
    "        cv2.imshow('frame',frame)\n",
    "        time.sleep(2)\n",
    "\n",
    "        if cv2.waitKey(1) and 0xFF == ord('q'):\n",
    "            break\n",
    "    cap.release()"
   ]
  },
  {
   "cell_type": "code",
   "execution_count": null,
   "id": "90bf62fe-571b-4d8e-9ef3-50ae26b6a6d1",
   "metadata": {},
   "outputs": [],
   "source": []
  }
 ],
 "metadata": {
  "kernelspec": {
   "display_name": "Python 3 (ipykernel)",
   "language": "python",
   "name": "python3"
  },
  "language_info": {
   "codemirror_mode": {
    "name": "ipython",
    "version": 3
   },
   "file_extension": ".py",
   "mimetype": "text/x-python",
   "name": "python",
   "nbconvert_exporter": "python",
   "pygments_lexer": "ipython3",
   "version": "3.10.4"
  }
 },
 "nbformat": 4,
 "nbformat_minor": 5
}
